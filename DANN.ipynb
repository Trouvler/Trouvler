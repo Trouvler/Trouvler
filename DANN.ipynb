{
  "nbformat": 4,
  "nbformat_minor": 0,
  "metadata": {
    "colab": {
      "provenance": [],
      "machine_shape": "hm",
      "gpuType": "T4",
      "authorship_tag": "ABX9TyOMGZEgiqJcNmzGGlvELi54",
      "include_colab_link": true
    },
    "kernelspec": {
      "name": "python3",
      "display_name": "Python 3"
    },
    "language_info": {
      "name": "python"
    },
    "accelerator": "GPU",
    "widgets": {
      "application/vnd.jupyter.widget-state+json": {
        "fb42da92538e4325b9722f581ebb24c3": {
          "model_module": "@jupyter-widgets/controls",
          "model_name": "HBoxModel",
          "model_module_version": "1.5.0",
          "state": {
            "_dom_classes": [],
            "_model_module": "@jupyter-widgets/controls",
            "_model_module_version": "1.5.0",
            "_model_name": "HBoxModel",
            "_view_count": null,
            "_view_module": "@jupyter-widgets/controls",
            "_view_module_version": "1.5.0",
            "_view_name": "HBoxView",
            "box_style": "",
            "children": [
              "IPY_MODEL_32757c37666b4a7ca024d5c66a8d57a5",
              "IPY_MODEL_f024749891bd41f7add435867d199897",
              "IPY_MODEL_bec5d6ff9e3e484a9fe5f86f4797858a"
            ],
            "layout": "IPY_MODEL_cb9d2d45c6144490adc77bb53b47a3a7"
          }
        },
        "32757c37666b4a7ca024d5c66a8d57a5": {
          "model_module": "@jupyter-widgets/controls",
          "model_name": "HTMLModel",
          "model_module_version": "1.5.0",
          "state": {
            "_dom_classes": [],
            "_model_module": "@jupyter-widgets/controls",
            "_model_module_version": "1.5.0",
            "_model_name": "HTMLModel",
            "_view_count": null,
            "_view_module": "@jupyter-widgets/controls",
            "_view_module_version": "1.5.0",
            "_view_name": "HTMLView",
            "description": "",
            "description_tooltip": null,
            "layout": "IPY_MODEL_33d54c7864d64ca1b373907ebc4c1fe5",
            "placeholder": "​",
            "style": "IPY_MODEL_4ca1971e3bf44997a41d6ee5dd9b3c4f",
            "value": "  0%"
          }
        },
        "f024749891bd41f7add435867d199897": {
          "model_module": "@jupyter-widgets/controls",
          "model_name": "FloatProgressModel",
          "model_module_version": "1.5.0",
          "state": {
            "_dom_classes": [],
            "_model_module": "@jupyter-widgets/controls",
            "_model_module_version": "1.5.0",
            "_model_name": "FloatProgressModel",
            "_view_count": null,
            "_view_module": "@jupyter-widgets/controls",
            "_view_module_version": "1.5.0",
            "_view_name": "ProgressView",
            "bar_style": "danger",
            "description": "",
            "description_tooltip": null,
            "layout": "IPY_MODEL_37611af0761049e5b45e02d57c35647c",
            "max": 333,
            "min": 0,
            "orientation": "horizontal",
            "style": "IPY_MODEL_3d1b3771066b4a44b6fa9b93f7af037e",
            "value": 0
          }
        },
        "bec5d6ff9e3e484a9fe5f86f4797858a": {
          "model_module": "@jupyter-widgets/controls",
          "model_name": "HTMLModel",
          "model_module_version": "1.5.0",
          "state": {
            "_dom_classes": [],
            "_model_module": "@jupyter-widgets/controls",
            "_model_module_version": "1.5.0",
            "_model_name": "HTMLModel",
            "_view_count": null,
            "_view_module": "@jupyter-widgets/controls",
            "_view_module_version": "1.5.0",
            "_view_name": "HTMLView",
            "description": "",
            "description_tooltip": null,
            "layout": "IPY_MODEL_65c89cc60b8240298bdf247ec7020d5c",
            "placeholder": "​",
            "style": "IPY_MODEL_b725a6e0e2524272a0e996207ce8de99",
            "value": " 0/333 [00:02&lt;?, ?it/s]"
          }
        },
        "cb9d2d45c6144490adc77bb53b47a3a7": {
          "model_module": "@jupyter-widgets/base",
          "model_name": "LayoutModel",
          "model_module_version": "1.2.0",
          "state": {
            "_model_module": "@jupyter-widgets/base",
            "_model_module_version": "1.2.0",
            "_model_name": "LayoutModel",
            "_view_count": null,
            "_view_module": "@jupyter-widgets/base",
            "_view_module_version": "1.2.0",
            "_view_name": "LayoutView",
            "align_content": null,
            "align_items": null,
            "align_self": null,
            "border": null,
            "bottom": null,
            "display": null,
            "flex": null,
            "flex_flow": null,
            "grid_area": null,
            "grid_auto_columns": null,
            "grid_auto_flow": null,
            "grid_auto_rows": null,
            "grid_column": null,
            "grid_gap": null,
            "grid_row": null,
            "grid_template_areas": null,
            "grid_template_columns": null,
            "grid_template_rows": null,
            "height": null,
            "justify_content": null,
            "justify_items": null,
            "left": null,
            "margin": null,
            "max_height": null,
            "max_width": null,
            "min_height": null,
            "min_width": null,
            "object_fit": null,
            "object_position": null,
            "order": null,
            "overflow": null,
            "overflow_x": null,
            "overflow_y": null,
            "padding": null,
            "right": null,
            "top": null,
            "visibility": null,
            "width": null
          }
        },
        "33d54c7864d64ca1b373907ebc4c1fe5": {
          "model_module": "@jupyter-widgets/base",
          "model_name": "LayoutModel",
          "model_module_version": "1.2.0",
          "state": {
            "_model_module": "@jupyter-widgets/base",
            "_model_module_version": "1.2.0",
            "_model_name": "LayoutModel",
            "_view_count": null,
            "_view_module": "@jupyter-widgets/base",
            "_view_module_version": "1.2.0",
            "_view_name": "LayoutView",
            "align_content": null,
            "align_items": null,
            "align_self": null,
            "border": null,
            "bottom": null,
            "display": null,
            "flex": null,
            "flex_flow": null,
            "grid_area": null,
            "grid_auto_columns": null,
            "grid_auto_flow": null,
            "grid_auto_rows": null,
            "grid_column": null,
            "grid_gap": null,
            "grid_row": null,
            "grid_template_areas": null,
            "grid_template_columns": null,
            "grid_template_rows": null,
            "height": null,
            "justify_content": null,
            "justify_items": null,
            "left": null,
            "margin": null,
            "max_height": null,
            "max_width": null,
            "min_height": null,
            "min_width": null,
            "object_fit": null,
            "object_position": null,
            "order": null,
            "overflow": null,
            "overflow_x": null,
            "overflow_y": null,
            "padding": null,
            "right": null,
            "top": null,
            "visibility": null,
            "width": null
          }
        },
        "4ca1971e3bf44997a41d6ee5dd9b3c4f": {
          "model_module": "@jupyter-widgets/controls",
          "model_name": "DescriptionStyleModel",
          "model_module_version": "1.5.0",
          "state": {
            "_model_module": "@jupyter-widgets/controls",
            "_model_module_version": "1.5.0",
            "_model_name": "DescriptionStyleModel",
            "_view_count": null,
            "_view_module": "@jupyter-widgets/base",
            "_view_module_version": "1.2.0",
            "_view_name": "StyleView",
            "description_width": ""
          }
        },
        "37611af0761049e5b45e02d57c35647c": {
          "model_module": "@jupyter-widgets/base",
          "model_name": "LayoutModel",
          "model_module_version": "1.2.0",
          "state": {
            "_model_module": "@jupyter-widgets/base",
            "_model_module_version": "1.2.0",
            "_model_name": "LayoutModel",
            "_view_count": null,
            "_view_module": "@jupyter-widgets/base",
            "_view_module_version": "1.2.0",
            "_view_name": "LayoutView",
            "align_content": null,
            "align_items": null,
            "align_self": null,
            "border": null,
            "bottom": null,
            "display": null,
            "flex": null,
            "flex_flow": null,
            "grid_area": null,
            "grid_auto_columns": null,
            "grid_auto_flow": null,
            "grid_auto_rows": null,
            "grid_column": null,
            "grid_gap": null,
            "grid_row": null,
            "grid_template_areas": null,
            "grid_template_columns": null,
            "grid_template_rows": null,
            "height": null,
            "justify_content": null,
            "justify_items": null,
            "left": null,
            "margin": null,
            "max_height": null,
            "max_width": null,
            "min_height": null,
            "min_width": null,
            "object_fit": null,
            "object_position": null,
            "order": null,
            "overflow": null,
            "overflow_x": null,
            "overflow_y": null,
            "padding": null,
            "right": null,
            "top": null,
            "visibility": null,
            "width": null
          }
        },
        "3d1b3771066b4a44b6fa9b93f7af037e": {
          "model_module": "@jupyter-widgets/controls",
          "model_name": "ProgressStyleModel",
          "model_module_version": "1.5.0",
          "state": {
            "_model_module": "@jupyter-widgets/controls",
            "_model_module_version": "1.5.0",
            "_model_name": "ProgressStyleModel",
            "_view_count": null,
            "_view_module": "@jupyter-widgets/base",
            "_view_module_version": "1.2.0",
            "_view_name": "StyleView",
            "bar_color": null,
            "description_width": ""
          }
        },
        "65c89cc60b8240298bdf247ec7020d5c": {
          "model_module": "@jupyter-widgets/base",
          "model_name": "LayoutModel",
          "model_module_version": "1.2.0",
          "state": {
            "_model_module": "@jupyter-widgets/base",
            "_model_module_version": "1.2.0",
            "_model_name": "LayoutModel",
            "_view_count": null,
            "_view_module": "@jupyter-widgets/base",
            "_view_module_version": "1.2.0",
            "_view_name": "LayoutView",
            "align_content": null,
            "align_items": null,
            "align_self": null,
            "border": null,
            "bottom": null,
            "display": null,
            "flex": null,
            "flex_flow": null,
            "grid_area": null,
            "grid_auto_columns": null,
            "grid_auto_flow": null,
            "grid_auto_rows": null,
            "grid_column": null,
            "grid_gap": null,
            "grid_row": null,
            "grid_template_areas": null,
            "grid_template_columns": null,
            "grid_template_rows": null,
            "height": null,
            "justify_content": null,
            "justify_items": null,
            "left": null,
            "margin": null,
            "max_height": null,
            "max_width": null,
            "min_height": null,
            "min_width": null,
            "object_fit": null,
            "object_position": null,
            "order": null,
            "overflow": null,
            "overflow_x": null,
            "overflow_y": null,
            "padding": null,
            "right": null,
            "top": null,
            "visibility": null,
            "width": null
          }
        },
        "b725a6e0e2524272a0e996207ce8de99": {
          "model_module": "@jupyter-widgets/controls",
          "model_name": "DescriptionStyleModel",
          "model_module_version": "1.5.0",
          "state": {
            "_model_module": "@jupyter-widgets/controls",
            "_model_module_version": "1.5.0",
            "_model_name": "DescriptionStyleModel",
            "_view_count": null,
            "_view_module": "@jupyter-widgets/base",
            "_view_module_version": "1.2.0",
            "_view_name": "StyleView",
            "description_width": ""
          }
        },
        "72a9c70de3574f4d8e80601bd71a8c25": {
          "model_module": "@jupyter-widgets/controls",
          "model_name": "HBoxModel",
          "model_module_version": "1.5.0",
          "state": {
            "_dom_classes": [],
            "_model_module": "@jupyter-widgets/controls",
            "_model_module_version": "1.5.0",
            "_model_name": "HBoxModel",
            "_view_count": null,
            "_view_module": "@jupyter-widgets/controls",
            "_view_module_version": "1.5.0",
            "_view_name": "HBoxView",
            "box_style": "",
            "children": [
              "IPY_MODEL_d975a2ea9dc44958946a041fe81c19f8",
              "IPY_MODEL_cb5de15c77e84e40982d381532982ee7",
              "IPY_MODEL_2c87dd84a7d540779570e25325e426ad"
            ],
            "layout": "IPY_MODEL_62dec39c847b4f0b8a10434cd1fe9f67"
          }
        },
        "d975a2ea9dc44958946a041fe81c19f8": {
          "model_module": "@jupyter-widgets/controls",
          "model_name": "HTMLModel",
          "model_module_version": "1.5.0",
          "state": {
            "_dom_classes": [],
            "_model_module": "@jupyter-widgets/controls",
            "_model_module_version": "1.5.0",
            "_model_name": "HTMLModel",
            "_view_count": null,
            "_view_module": "@jupyter-widgets/controls",
            "_view_module_version": "1.5.0",
            "_view_name": "HTMLView",
            "description": "",
            "description_tooltip": null,
            "layout": "IPY_MODEL_0f1a746ad7c44c6387e2e9fb349f04d1",
            "placeholder": "​",
            "style": "IPY_MODEL_3035cffc053448fd9c34824c0bbb7804",
            "value": "100%"
          }
        },
        "cb5de15c77e84e40982d381532982ee7": {
          "model_module": "@jupyter-widgets/controls",
          "model_name": "FloatProgressModel",
          "model_module_version": "1.5.0",
          "state": {
            "_dom_classes": [],
            "_model_module": "@jupyter-widgets/controls",
            "_model_module_version": "1.5.0",
            "_model_name": "FloatProgressModel",
            "_view_count": null,
            "_view_module": "@jupyter-widgets/controls",
            "_view_module_version": "1.5.0",
            "_view_name": "ProgressView",
            "bar_style": "success",
            "description": "",
            "description_tooltip": null,
            "layout": "IPY_MODEL_7dad9e2bc6cb4aa3b5c527dcf86a377d",
            "max": 119,
            "min": 0,
            "orientation": "horizontal",
            "style": "IPY_MODEL_e8c8a794a64549799ca67d40e6d542c0",
            "value": 119
          }
        },
        "2c87dd84a7d540779570e25325e426ad": {
          "model_module": "@jupyter-widgets/controls",
          "model_name": "HTMLModel",
          "model_module_version": "1.5.0",
          "state": {
            "_dom_classes": [],
            "_model_module": "@jupyter-widgets/controls",
            "_model_module_version": "1.5.0",
            "_model_name": "HTMLModel",
            "_view_count": null,
            "_view_module": "@jupyter-widgets/controls",
            "_view_module_version": "1.5.0",
            "_view_name": "HTMLView",
            "description": "",
            "description_tooltip": null,
            "layout": "IPY_MODEL_c50d844f46c24b268c4f180f02503b20",
            "placeholder": "​",
            "style": "IPY_MODEL_31ead1a5254848db8dbcd37cc69dc578",
            "value": " 119/119 [02:50&lt;00:00,  1.25s/it]"
          }
        },
        "62dec39c847b4f0b8a10434cd1fe9f67": {
          "model_module": "@jupyter-widgets/base",
          "model_name": "LayoutModel",
          "model_module_version": "1.2.0",
          "state": {
            "_model_module": "@jupyter-widgets/base",
            "_model_module_version": "1.2.0",
            "_model_name": "LayoutModel",
            "_view_count": null,
            "_view_module": "@jupyter-widgets/base",
            "_view_module_version": "1.2.0",
            "_view_name": "LayoutView",
            "align_content": null,
            "align_items": null,
            "align_self": null,
            "border": null,
            "bottom": null,
            "display": null,
            "flex": null,
            "flex_flow": null,
            "grid_area": null,
            "grid_auto_columns": null,
            "grid_auto_flow": null,
            "grid_auto_rows": null,
            "grid_column": null,
            "grid_gap": null,
            "grid_row": null,
            "grid_template_areas": null,
            "grid_template_columns": null,
            "grid_template_rows": null,
            "height": null,
            "justify_content": null,
            "justify_items": null,
            "left": null,
            "margin": null,
            "max_height": null,
            "max_width": null,
            "min_height": null,
            "min_width": null,
            "object_fit": null,
            "object_position": null,
            "order": null,
            "overflow": null,
            "overflow_x": null,
            "overflow_y": null,
            "padding": null,
            "right": null,
            "top": null,
            "visibility": null,
            "width": null
          }
        },
        "0f1a746ad7c44c6387e2e9fb349f04d1": {
          "model_module": "@jupyter-widgets/base",
          "model_name": "LayoutModel",
          "model_module_version": "1.2.0",
          "state": {
            "_model_module": "@jupyter-widgets/base",
            "_model_module_version": "1.2.0",
            "_model_name": "LayoutModel",
            "_view_count": null,
            "_view_module": "@jupyter-widgets/base",
            "_view_module_version": "1.2.0",
            "_view_name": "LayoutView",
            "align_content": null,
            "align_items": null,
            "align_self": null,
            "border": null,
            "bottom": null,
            "display": null,
            "flex": null,
            "flex_flow": null,
            "grid_area": null,
            "grid_auto_columns": null,
            "grid_auto_flow": null,
            "grid_auto_rows": null,
            "grid_column": null,
            "grid_gap": null,
            "grid_row": null,
            "grid_template_areas": null,
            "grid_template_columns": null,
            "grid_template_rows": null,
            "height": null,
            "justify_content": null,
            "justify_items": null,
            "left": null,
            "margin": null,
            "max_height": null,
            "max_width": null,
            "min_height": null,
            "min_width": null,
            "object_fit": null,
            "object_position": null,
            "order": null,
            "overflow": null,
            "overflow_x": null,
            "overflow_y": null,
            "padding": null,
            "right": null,
            "top": null,
            "visibility": null,
            "width": null
          }
        },
        "3035cffc053448fd9c34824c0bbb7804": {
          "model_module": "@jupyter-widgets/controls",
          "model_name": "DescriptionStyleModel",
          "model_module_version": "1.5.0",
          "state": {
            "_model_module": "@jupyter-widgets/controls",
            "_model_module_version": "1.5.0",
            "_model_name": "DescriptionStyleModel",
            "_view_count": null,
            "_view_module": "@jupyter-widgets/base",
            "_view_module_version": "1.2.0",
            "_view_name": "StyleView",
            "description_width": ""
          }
        },
        "7dad9e2bc6cb4aa3b5c527dcf86a377d": {
          "model_module": "@jupyter-widgets/base",
          "model_name": "LayoutModel",
          "model_module_version": "1.2.0",
          "state": {
            "_model_module": "@jupyter-widgets/base",
            "_model_module_version": "1.2.0",
            "_model_name": "LayoutModel",
            "_view_count": null,
            "_view_module": "@jupyter-widgets/base",
            "_view_module_version": "1.2.0",
            "_view_name": "LayoutView",
            "align_content": null,
            "align_items": null,
            "align_self": null,
            "border": null,
            "bottom": null,
            "display": null,
            "flex": null,
            "flex_flow": null,
            "grid_area": null,
            "grid_auto_columns": null,
            "grid_auto_flow": null,
            "grid_auto_rows": null,
            "grid_column": null,
            "grid_gap": null,
            "grid_row": null,
            "grid_template_areas": null,
            "grid_template_columns": null,
            "grid_template_rows": null,
            "height": null,
            "justify_content": null,
            "justify_items": null,
            "left": null,
            "margin": null,
            "max_height": null,
            "max_width": null,
            "min_height": null,
            "min_width": null,
            "object_fit": null,
            "object_position": null,
            "order": null,
            "overflow": null,
            "overflow_x": null,
            "overflow_y": null,
            "padding": null,
            "right": null,
            "top": null,
            "visibility": null,
            "width": null
          }
        },
        "e8c8a794a64549799ca67d40e6d542c0": {
          "model_module": "@jupyter-widgets/controls",
          "model_name": "ProgressStyleModel",
          "model_module_version": "1.5.0",
          "state": {
            "_model_module": "@jupyter-widgets/controls",
            "_model_module_version": "1.5.0",
            "_model_name": "ProgressStyleModel",
            "_view_count": null,
            "_view_module": "@jupyter-widgets/base",
            "_view_module_version": "1.2.0",
            "_view_name": "StyleView",
            "bar_color": null,
            "description_width": ""
          }
        },
        "c50d844f46c24b268c4f180f02503b20": {
          "model_module": "@jupyter-widgets/base",
          "model_name": "LayoutModel",
          "model_module_version": "1.2.0",
          "state": {
            "_model_module": "@jupyter-widgets/base",
            "_model_module_version": "1.2.0",
            "_model_name": "LayoutModel",
            "_view_count": null,
            "_view_module": "@jupyter-widgets/base",
            "_view_module_version": "1.2.0",
            "_view_name": "LayoutView",
            "align_content": null,
            "align_items": null,
            "align_self": null,
            "border": null,
            "bottom": null,
            "display": null,
            "flex": null,
            "flex_flow": null,
            "grid_area": null,
            "grid_auto_columns": null,
            "grid_auto_flow": null,
            "grid_auto_rows": null,
            "grid_column": null,
            "grid_gap": null,
            "grid_row": null,
            "grid_template_areas": null,
            "grid_template_columns": null,
            "grid_template_rows": null,
            "height": null,
            "justify_content": null,
            "justify_items": null,
            "left": null,
            "margin": null,
            "max_height": null,
            "max_width": null,
            "min_height": null,
            "min_width": null,
            "object_fit": null,
            "object_position": null,
            "order": null,
            "overflow": null,
            "overflow_x": null,
            "overflow_y": null,
            "padding": null,
            "right": null,
            "top": null,
            "visibility": null,
            "width": null
          }
        },
        "31ead1a5254848db8dbcd37cc69dc578": {
          "model_module": "@jupyter-widgets/controls",
          "model_name": "DescriptionStyleModel",
          "model_module_version": "1.5.0",
          "state": {
            "_model_module": "@jupyter-widgets/controls",
            "_model_module_version": "1.5.0",
            "_model_name": "DescriptionStyleModel",
            "_view_count": null,
            "_view_module": "@jupyter-widgets/base",
            "_view_module_version": "1.2.0",
            "_view_name": "StyleView",
            "description_width": ""
          }
        }
      }
    }
  },
  "cells": [
    {
      "cell_type": "markdown",
      "metadata": {
        "id": "view-in-github",
        "colab_type": "text"
      },
      "source": [
        "<a href=\"https://colab.research.google.com/github/Trouvler/Trouvler/blob/main/DANN.ipynb\" target=\"_parent\"><img src=\"https://colab.research.google.com/assets/colab-badge.svg\" alt=\"Open In Colab\"/></a>"
      ]
    },
    {
      "cell_type": "markdown",
      "source": [
        "DANN(Domain-Adversarial Training of Neural Networks)note![제목 없음.png](data:image/png;base64,iVBORw0KGgoAAAANSUhEUgAAAh0AAADxCAIAAADgG5JgAAAAAXNSR0IArs4c6QAAAARnQU1BAACxjwv8YQUAAAAJcEhZcwAADsMAAA7DAcdvqGQAAJLDSURBVHhe7b0HVFtZnuc/u+f0zJ6ds3P+07u93T3TvR1mprty6Kpy5ZxjV5Uru1zO2eWcMTY42xgwyTZgbHLOOeecc84ZBYSEIpLw//u4zw9ZCCGBEAK/z7mHc+/TS3rA7/N+L9z7D3dZWFhYWFhMB+sVFhYWFhZTwnqFhYWFhcWUsF5hYWFhYTElrFdYWFhYWEwJ6xUWFhYWFlPCeoWFhYWFxZSwXmFhYWFhMSWsV1hYWFhYTAnrFRYWFhYWU8J6hYWFhYXFlLBeYWFhYWExJaxXWFhYWFhMCesVFhYWFhZTwnqFhYWFhcWUsF5hYWFhYTElrFdYWFhYWEwJ6xUWFhYWFlPCeoWFhYWFxZSwXmFhYWFhMSWsV1hYWFhYTAnrFRYWFhYWU8J6hYWFZRr15GR7r7CqiVfZyF1A4dW3jYrEE/RKWR4wWK+wsLDQ5JYPnbtZedyx9NKt6iteNQspZ25UHrla4hfbxh+T02tneWBgvcLCwkIRmd51yqW8uGZkYkJNT1oYPYPjt8Kbz96o5Alk9CSWBwPWKywsLHeLqkesXcqHuBK6bSLUk5P+cW1IXyYnJ+lJLA8ArFdYWFjuXr5VnVs+RDfu0dDGS87tSivoHhgZpydN0djOa+rgo9S38ehJsyNTqE44ljZ3Cug2ywMA6xUTo55U1/cX5bZEZzeFz780RxS2JQwLe+iVsrAsJgMjksN2xVK5km5PUdfCjUprI3VX/6qu/jFSBx29Y6t3xwTHN3X2TU/UQ0hSR3BiB91geQBgvWJKUusD9ga8veXOc1bhX1pHfr2QciTk47Uej15J2NLDa6bXzsKyOLR2j51yKacb90jM7kzJ7yL11q7RCzeLSR2MieTvbggTSw193Cu9qN8rgv0zfoBgvWIygkvst955PqspTKE0zV3KobFuj6wTWGcXt4GexMKyCLR0jZ121fYK6BsSZRb11LfxuvuFW06m0FPv3s0v7992KpVuGEBG0YBnWBPdYHkAYL1iGorbE5GmLIYAAovsdvq+MqFS0G0WFlMz0ytq9eSNwGrkK6j0DoquB1Ttsk2nP7t7Fx+5+lfRDQNgvfKgwXrFNNhEfRdR5kI37iGSCLKr4mvai9Xq+T+4qVar9vi/mdsSRbdZWEzNTK8ExTe5BUybw8ohz9W/km7cvbvTJi23rI9uGMCK9AqMK5ZMjPClXf2ihvbRigZuWR2npHakuGaktJZTVs+pbubhwPYPi0eFcrlCRS/2YMB6xQTwxcM/uj/MGx+k21P0jrSHZ3tK5ZIBbvfVoMOo0B/cvRuR4/X5icedwqzSyiPpSXoJLb12NWk73WBhMTUzvfL9gfj6Vi7duHt3/bGklq5RUpfKle9tDBMIp992jL53e382lrtX1JOTQ1xJTTM/vag/KKHdya/e2qX84JViUo47lp67WXn1To2Dd+013zoUR586e+/aS7eqcVQP29GzHbEvueBRheMQk9FdWDXc1jMGLdEbWHGwXjEBPbzmte6P0I173Ig6E5rpTurIWvxSnEgdcMeG3tr7e5nC0HcFMhtDT0d9SzdYWAxDpVJLZcoxkYIzKhsYkfQMjnf0CVu7xxo7BHWtfJxNVzZycVpdUstBpNO6b//ZjijhOH3ptbaZc8qpgNRBRf0wNEM37t5t6xZEp1NeGeFJMop6/GKoS8EFlQNNHfypzymWo1dw9JCIZBRTe251rezQleLz7lUeYU1R6V0FlcMw8SBHgkOkVM1xKWJychIm5glkOP445mmF/YHx7XCPlVMZZHP5VnVYSidyHfya6AVWBKxXTEA3t3Gtx6N04x5K1YRarR7m9ykm5PWdZUdurKE/gCcqYnbYf0w3DCCrKcw68mu6wfJgI1eoEKQQ8uCGouoRnEHHZvUEJ7bfjmy5HtSA02SEP5xNH7laQk6TDSwIc/QGprgVWgtJoNLZN3bhZrFITEe97n7hRfeS4/a5SF9qmjlhyS2rd8fwp16nb2jjYaJ7SA3qWGR0bPrpFXjlqEPJCcdSnL9j93Bq7+xfjxjtG9MaktQRk9mdWtifXzEEzzV3CvqGxQiyCOv0wuYFqQnUi+N54loZ9vl6UGNyfh+mKCZMfyELv8fSOk5wYgfyGPwK8LvLKh1kdL6sYb1iAnR6Ja0swifZsaa9OLU0PDDNdZ/zV/QHd+9eCz1xI/os3TAA1isPGir1JHdUhpPi4pqRpLzeoMT2G8GNl25VIzRrysCERcsroKxuKCG7o6RmUPNV+dYpnWgWTKE/u3vXO7K+uomDyuErOWQKgXhFa4tzFtgRodYrojkirSurZKCmhY8UYUK5WL6RyJRJub1nrlPdoyGlgOHmzEVMCFSaXTbo4F17yK74Zkgjckr6g+UJ6xUTMNMrkMpZn1104+7dnQ6fukScoht37268+HZBnRGPabJeWdkgBekeEEEhOHO/Fd580aOKuShveEGCgmwA7rnmW4fA5B3VEpjQHp7aiWwmOa8vo3ggt3yooGq4pHakvJ5b1cSrbeHXt402dQhgr8ySgZnvr8yDlPyu+KyO0KQWO6/7LAWvnL1Ria+GjAq7d/lWNZowGWKo1rcwpCDjwarisnsqGrgwDRxMb2a+IBdB2of9cfSpwzo1UxPzp03DPCm+GtzmFtiArJSeutxgvWICZnrle9sXatqL6Mbdu2vOvFzbUULq41LhW3t/J5JMv6hcUDv9ZoBOWK8sL+bsCwvRCiLB+alfbCssohU3dZaTTmV2t2vcQ5uQuyTk9EISlY3c1u6xgREJTnUX2FPkzPv28wDfGvnNmEjuH9NYXj9MT51itvsrWAROxf4PcSWdfSJ4rqSWk1k8AL/6x7VBQhc8qo7Yz5HoHLUvcfKrQ05TVscZ4UnVRnZE1jcsPnOjEj6uaZ6+IQQGRsZPOOT5RNXT7YUxNi4Pjm/64WB8aGJzaa12fzkzEYknItO6cK4Qlty5VJcEFwLrFROg5RW1Wv36z79lbsu39dfvdvyc1EFxQwbyFbpx924/pys23w8VwTgvqTikspW6QVrVWigQTfe8xHpluaBWTyImDoyI6bYGiHc4uc4uHfQIazrmMOvlLERJ+MM7uiUuq6egcri5U4BYudhPqZrKK96R9TmlfSj0pHss5L49VosgCw0jk0DiBRNfvVOrRzZIO3CEUwv723qEc94UqWvlIzOIz+7BL46epEFWSa+pvAJqmzmbreY4g9QCv3qY9UZwo1R2Xxc7lg/rFRMwM1/Z7/I1hIEK8pJTXpsHuN1kOnCNOOUYehyVCaWirqN0/YU3+ULqknRuTWJNe/GdxKuoW3lu1HwumfXKskAqVyJ6IrTlV9AnpBNK5CXjyEu8o1pOaTyZqlkuelYjViLyNrSP8gQyY0+3TYKWVwJiG60c80xSZFN9ji3EKzqBBjh8aXUzD6kbLKL51K9mOXy1xNm/Pi67B5mQZEZoRoaEhKCkdoRuz8C0XsFRdfKpoBsGI5ZOuAY0oNDtZQLrFRMw0ytC8Whwxo34woCIHC8kIvTUu3fjCvx9kh39U51DM90DUl1QR45CfzalnNbeWpygHb7+PT1pCtYrlg93VHb5VjUT0UKSOuy9a3XeJkGwcwtsSM7vQzS3kPNQLa80dfALKgdMUsg1HJN7RQv8y/DH5NAMkkWIZLZn4a7eqYlI66pq4glEcvjbwbsWSSG9Cl1oeiWvvD+/vD+zuLe2hXqtB784fFrVOBKX1dHQxkP0z55qxmS0My/6aHHULidz6hE7Y8HKkYRht+n2coD1igmY6ZX54RBylCMYTC4JvR5lS0+agvWKhdPWM3bSmXodQU+BZqIzupGUWOCr13qug6nUk7llfYihmu+jELr7hSU1c98qAIvtFS2QJiIXSS/qx0atrun+vSDFOXGtlKRTs8F4Bc6ITG0lEx3ulHf0joUnt/QOUjfVh7ni0tqhoPimIQ518bNvSFTZoCMBwmH8ZFskd1RKt40kq2TA7jb1APdygfXKHMgmxL381qqe7IzGkKiK6z75565nHLZL2nYmZs2J8C8OBn2wx//NbXeen/lepLHgnKumvbigLtUh5FhlSz49dQrWK5YDfk0jwl7N7toKq4Z15iW21ytuR7akFvZTeYne+LXk6PHKnYg68mp9YeVAWHILmQhwYp6S31VWN8QEXD2Y2SuaqNWTAyPivPIhn5hWG7cKzV8Q8hV6pllgvPLz2Yy2bvrB36TcTmffSvJyqFd4XWM7T6FQFVUNbjiWhGMF+6JJ5tSktWv0h4PxdGPqr2hs3IjhmaHJE46ldGM5wHrlPtRqFSyS3RzhW3D+Qtz6XX6v/uj+sCFl4V4ZE/PP+uzKrIgJufeWPgO8si/gbexVfX/hsLBHyfZBaUZUamUfvzW/NTag6PL5uHVb7zyPX3frMN13Vl0rX+cZcXbpfZ36WDizeWVcMoFwSTfu3t17LpO8tYdgesa1EJVxsWLf+cypD/WxhF7RBNGcOyorqeWEJHXA+rZuFZhCf6YLxisbjyczw8+k5ndfuFkMebR2j/pGNeD45Ff0o9nSNYqZ1x1NKq7W8auPSGm96E4/EQpqmjnkZVIDqWrinbk+3T+b5cN6hRqJq5NTH1fleSVx6+bbz2raYray+fYzu/1eOxT8oVXEl7bRP5yK/FrTK2nlkf6pzvMofilOKEyT6QYGXtno9TSzdWxrb8BbiHG3c21S6vwaB0okiuX6nLsFgoPZPFSeWh/gmXMSaeKGW08yR54p+JSemzkjrrjvjDg8tZP+eDmgJ19B5EVIrW/l4msetcshrz3CJYiMqAxyxIi5UzPqQ8srPIFsiCPRKspFe+FRJ1KZ0tq5vKyO+hazwXjFybcCGQmZiCnxWR1I3citIyRzrv6VoUkt5DUa7qjUM1RHGnTauSAuix7ZDN/0dngdKjiGdyLrIWlMcQ+e9TIXjrzd7ZrE3F66vRx4cL2Cs/6K7sybmUd3+LykFTVIgTxOR32LGSLL3XKaI+v6CnDeKpTycQJLr+IeWvdX4gr8b8acW3jxTrQnK9Tyis5yMOiDm1nHMhtDBwVd+s/CWDTBb3NA0FHcnhhW6mSfvBN5odaB1SybvJ7BaYRP/rmWId0P9jBnxBnFA/SkpSO7bPB2ZHNgQrtmQYJFf6zBbF7pHx638yqrbeYMjIwn5XauP5YEwQxxxJ9si4RsegaEMRnthy9n03PPjpZXmKxOs5y5UalQmPVqYX7lMM4DOHzd9zxgCIc75VYOefiaIrECamnrFlTUD7v6V0EhEEN0WtvomCyjqKeuhQuXQDZoIpvRuhEF8WCev++ICoxryintwxHbZZuemE2ddnQPCLE2uBmLBMXPms8l5PRiPy3wtpweHkSvIDvBmT65oKFZ1nk+gagRWGRX0pHCEfUbHp3137fvGGhs7qlRqrT7LpXIxg3sehJeOR729+re3IyG4JASB9f0AziP3npnldb+M2WX36vXM47ktkQLJPpOxx5A8DvljQ9W9WQjPb2RedQq/Mv1nk9oHT3NstP3lSsJW4KLrxa1J0DYSG3pFS0HDl+l4vUR+5JzNytJQXhCs7x+uqNigk6v4Ix+3ZFE5lZzWd3Q+xvDMTGtoPvAxaySmkGUY1dzyRm9frS8Qm5HXfSsjsvpiZ8qkeldp1zKzawW5AEhSR0nncraenSMpjyhVI9LJsTSCSagQ67M0RgXK8i1L3JhEE3MhiYqZAYGpDWjQhmUo1mYPgJOOlJ3UkMSmzV7j2ZQqtQ4FUBe1dm3zC5IPEBeUSjluS1R1hFfacWOIyEfBxRdru0rkCvn+bTGbF5RqVV+Kdeaeqq7BltcI071caavjYRleSQUBjqHW/PG7nszWSc679sjRI5JuA0DxYk1d9wyDh0Iek/re5GC0BlS4tgyVKlWL6fzHZOAQ8QfH6rty0+q9fHMOWkT9Z3+65zrPB+Hv69nHI6vvlXTm4fDS69oeQKRIHwfdyyNSu9KK+onxS2oYaZadHolOr0N2qAbd+8m53Ydt6eaAXGNKGTihmNJiLakrgctr1g5lVg7Zhx3KHbwqU0t7CM7FpfdY361gMySARyQ6IzuJem1HulgR+/Y7jPpM/s9a+4U2HvXXvKsRgZMT1o+PBBeEclGI8pdd/q8rBlE9ge+G1HmMigwwXXw2bxS1pxz7OZaUoc/mHpWZdzNmHOoZFbEBKVfJxP1oNMrM0EcRKblk38WptT8pqRs934BEbOwLV4kW95d2s0GkgmuqL+6Jye+2ssj2+p01Lebbz+jdRC0yt6At+yStgWX2Oe3xvbyW5XqFTUeBryC8G19LRtq8Y1tDUpsJ8X2OnUTKL9y+oRGp1duhdbeCpu+VXDULodc4QlLbomfulVQUT986d696NoWbnBC8zCPyr9jM9rJRIaZXrG5lnrBJR67QWVUV0tIIU3XgLkTINOCbMDZv/6EY2lyfh8SFHrq4gMlt3aP9g6K7G7d96xXR5/welDjMYfShJxe/U9CWywr3Cvc8QGf/HMbbj3FhJKfPB5zSTvQOFBiwmsas3lFqZoQScaUKqSzVK7w+YnHcQaNid/ZPD8qok4YE4uDNfujnA0DvaIJztOzmyOc0/bPvFy21v0RnLlHVVzvGKld1kkMTheQriXX+d7KsYZFNnnNYZGdvq9ciFuPv4fMxtC24WqpQkdvKysJ4pXLbrGH7AoRrxGnmILmSefpriF1egUWOetG93EHl0Sk0M8Td/cL4ZtxycQZ10Km//yyuiFn30p8hDho7XTfU/JAp1ewY0iAzlyvuBPVwhSkLHZeS/OiRn3b6NU7tYevlnhFNFc18Rav42SGyoaRlPyuqLQ28iQ3Z1SWnNdHukQLT+1c1h3mrxCvTKgUWlexhoU9ntknYREmrOCEPbT02qh41m4b5s1sXunjdF6Psk0pDU8riyhryn79599OKBVF9em7Hf9OZnCLtPFJdiR1PczDKwwqtbJ5sCy4+OqxsM+YQ8EUWMcxZTdCczevyZIdI1WM9/FbK7ozE2u8b+fanItdq5V9ziy7fF+FRbzzzqQ1BDYNlq7ULE0PjFfw87x7ZVhKJ1Oc/OrO3ph+bnW2+/b1rVxEvbisjsb2+172RkBML+zReiln79QDx+V1wzNvQc/mFSuHHHvvWs0du3yreqm8QugbFsdkdNu4VZy4VnY7siW7dLB3aFy94C6TZ0Msmaht4UdndOM4HLpSfD2oobhmxMLfdjKEFeIVnIQm1NwmdRjFPes4Aj0TYvYFvJ1S5z/v2ydzotMrvLHhLVfeF0nocHY7we6HMy+h4hp5+oTH+tBMd5TVJ58ubph+/B/JTWC6W2CaK92+x0K8ogmyt/SGoKtJ2zd5/Y05OEzB+f652J8Cii7nt8Z2cRsW73AxIGUUy4Ujwt5OTn1dX0FJRzIyidgqT1jQK+eUU+qeMzE/Hgr+YM5EBAWauRC3wbfgAtbQMlQhluu4E/ugYbhX2nuFM8dfMZbTzgXcUamVY97MW9DJ+X3eUdPvVFqyVwgQSWv3WEJOr0sA1SvMCcfSmyGNUeld+ZXDmC4QGfFKoyYTE+qBEUl1My+1sD8gvu2KVw0SR9vrFX6xrQWVw5pDOy93VoJXyrrSEFm2+7yIU1rkKJpGORT8YW5L9GJfN9fpFfjDPeY83Zjq+4vcUznuvq60MQsVoXj078cfQwYz9TlFePYtZDN5NdNvohFM5RUGpHcNA8UhJQ7WEV+tdX+EOVxaZZffq6ejvnVK3Xsnzza8zBm5QnZTeFF7AvKG2r78+v4i5AFIhhDHm4fKGwdKMaW6J6e8Kx3z5LZEwWGJNXeiKq4HFV/FGq5nHLFP2nE2Zu2JsM/3Bryt53m2OQuWtYn6zjPnJDItbHRMaqauk4o643LawjRLblu4TGnoeNJmxnCvCMcVh+yKEfLotvEMccT1bTykNScc8ma+iYLTcM3XLyzfK5pMKNXwbkbxQFBiu7N/vbUz1cflMQdqTHtHH2qoG1ghIq0LEkrO60sp6Est6IdHk3J746hxPDuQ9LgGNEAhyAix4GG74ose1PgxMZndpbWc5XhP3hCWvVdwDj7ziWGUo6GfFrcnmufajk6v7HP+Krc6gdTVavVP518bGe1HHV7pHqIuVYdleZDeiwm1HSX7Xb4Oybip2U8lweRe0USiEFX1ZMMx5+PWGZIZmK385PEYxAYJXUnY4pFtFVnuhlMEOGxMwjX8EXDTss7vLygb/B/eGPAIKWjuj3jdMtViuFeAdzQ1DhjdMJ7CyoHg+Kbw5BattzdA37AY0hrVOBlfXl6ZiVhK9dtf3zYKMWSVDsIo2HPYxSem9U5UC0SCg+kb0xoY344UB5pBllPVxGvpGhvhSZfjYCrzYHl7BYmIbfT3WvHocMhHOF8256sGOr1yK+5SckkoqfskO8YV+JO6X8q1uo5SyOOEx3rFxPQ/m1I1Aa/IJ2Qzg+aiekUTHLShsa7ijiQkGW4Zh3Bsf/Z7XTP/W2DZ6PX0Lt9XkUQiDbqcsNk1/cDtXJuQEsf4ai98x5KOFCQfXdyGEWGfVDG+VPLQA/HK2fSvsofu5Ax7oyR1u/wc8aJlqsUorwyMiE84lqYVUqc+JoTDl9q6VUSmU2NGMCx3r7DMyfL2Cs6ytSLXwaAPzH//WadX4Am/FKfInNuhme7kwhdBrpBG5/lAM2Kp9rtOh9zu6x6fwWxe0QlkMy4TDAq6OkZq6/oKKroyCtvic1uisFfpDUFpDYFp9VTJaAzBlLyWaKSJZV1pNb15jQOlHZy6AUEHb3xQLBfO7Kdg2bEp4DGryM+3Bf3tbNpqGCWpxxUlovXS5sDHdoY8Z2lqMcoroKuf6tzwmm9dSe1IZ58IzYWUpg5BaHLHMYdS/NQ6RbAor3QPjB/UeO2fFOx2azd7i27+LGOv1PYVaEkFZcud54y9Z6tUK8l56Lbgp2eWXaGreka1n2/RAqETm17gXZxhfp9d0GG6cT8pdf5nY+h3XzQp7U7Ws+cHIt+QKOZ+Z43FcOAV2+gfLsVtJoddq7jm7KHnswyM9QoQiSdSC/oveVZbOZUddyydd4GfbNwqfKJb23qE9Ko1sDCviIhLvKNbItI6SbkR0njUvoRVy7xZrl6RK6WXEjZZhX95MmI1zuVPR31rE/Ud/ufPxPyI82V6JsNQKhUkLtjlrvWtPaFVrBI/RIzWrxbszObbz+IMnW7Pi8L6NDIg8UwcU3bfybtvRBZCfkck2fPrpbu0dtu75ujeyJf3hr/MqsWEEK84Ju7ZHvTMlfwfwjpsmbIv+iWHzK30fJbBPLxiHizNK4ftik9dy4IOIzU6JvAMa2LVMm+W/X37hUO8si/kjU2Bj4U2nyXXzZmSOehlnfTxnGrxyT97MX7jvG8JWHlu9Iy7SF6W1GJQ0LXW49Fevo5RLqa88tcDYW/uDn8+octJa8+Te932sWoxKYxXdgavcirZGNt3mSmH499kvWIgFugV7MxJx2xkLZpZF8ljkMPRs7IYjLm9sn379u+//37zFDt37uRyl74LJuKVi7Ebj4Z/PG+1cMcHdvm96pV7en7PC3QPtersKGxE2Lc34G33LGo8/JnAK+v9HnJI+JlVi3lgvWISLNMr510SYJFb4c1eEXTxCGvClJX6KPCiYm6vQCpg3759rq6ue/bsgV2WXC2MVxAvFqKWQUHnbr/XDga9H1/tVd2bW9dXsJBS1pnmkW214dZT1zOOzPYkAvEKdptVi3lgvWISLNkrockdzM4EJ3WwXpkf5vbKlinWrFnj7OwcGxu7d+/eJVeLplcWqBbZhDitIfB01Lc/+72+0+fl+RffV/YHvuuctr95UN9b0IxXWLWYB3N6RWfn7UaxqF5ZyO4tklf6hsUSmdHPHGIpyOOccyLrFROyBF45cODA0aNHLUctWl5BWYhazImmV1BYtSw2hnulsbtSa8SdytYCumYYN0MaQ5LoEQbnx6J65bhj6WwjYs3JInklv3L4ggc9PrThDIzAK0Uo2CXWK6Ziabxy/vx5y1HLTK+gLAu1aHkFhVXLomK4V9LKIy/67XWNPM2Uvc6r8TMo/bpAZFCvM6TzqJljcBnOonoF+3boSvH8Bg9eJK/klg9hr3yipzsiM4R7zxlDLdRdetYrJmHJvGI5atHpFRQ9ajmZ9PF2C1DLTK+gWLhaRDI+R9Q7v6Jc6jcrjfBKWURCUVBBbQpTHEOPV7TkZVXG2QUeUqrm/iI3ghsR1JAWkEFN5sFiewUF66HbxrB4+Qp26ZDdfUPLzAm8AkFaX8s7ak8PAKNVWK/Mg6X0CrAEtczmFRQLV4tOr6BYslp2hjyHoz2/cijqbfyy6BUtBYZ7pamnmgy6w5BdFY+fg7xej9gLQ/w+MlEP8MrVO7Wkv8L5pQWL6pVjDiV3oloOXy2JyeymJxnM4nkFbvCKaMa+9Q0bOrgOuW9/yTX2pGM+LGJ7vZwpxCvCGUMLs8zJEnsFLLla9HgFxZLVMptXUCxWLXvDX8HR/jnihdgO+8RuZ8NLROvFXWGrllYtRt23l8jG/VKcbO9svxF1ZvieSLqHW/1TnUldP/AKYm5O2eApl3JHn+lxGw1nsb0SndEdlNAOtdS1avc1qZ9F9Uph1TDWae1cLjNsPGOt58FcAxrcAuni7F/P5ivzY+m9ApZWLfq9gmKxatHjFRTLVMuR6Pf2hbyxO+SF4/HvZwx4au2Y/oIvsrRqMdwrUrnkoNt33kkO16NsfZIdD1//nnRibTjEK0XVI0m5vUeulkSmGT1gthm8gt27HtRwwrFUs7viOVlUr2CXcsuHbNwqkOrRH+hlgc8Z9w6KKhtGTDK4ZHe/sKJ+1it4AyPjVY0j0rkeeFNMqJo6+K1do3R7ibAIr4AlVMucXkGxTLXo9wqKBaoFXjkY9q5d/PblqBbDvZJZEUPGO6hoySN9VKeVR5KPNIlK74IzmBe8NQsimv0dyisoIUkdh68WVzcZN8zMwr1y2rXiiP2su0e8UlA5fNGjyvZ6hVptaGxdiFc6+0R6jhgKOWIp+X1wTGD83D3/d/YJsdQFl/j5eaW2mfPtvrjRMRPkNJDK5zujZxubsrmTv+FYEtxDt2cB4glNbD5yJYduLxGW4hWwVGoxxCsoFqiWOb2CYmlqIV7Bji1HtRjulYLaFFIhXlGpVWllEWSKJkEJ7YfsiiPTunSWxNxeEiVRbgY3InTyBEbEr4V7xepa2TXfOq29Ykp26SDZt6ySASunMrfABnqxuViIV1q7xhDrw5I7tXaGFHiaOWLhKZ1IREpq5xh3vKsfXik6dKXwjFPyPLwCdp9JN4lXAMyhZ8zjEw55c3oF9A6JWK/cx5KoxUCvoEAtm/WqpXfUuGccF4ghXkHRrxYzd0/JeAUFatkFtSQYrZb4rmu7wp4zv1oM9wpPOIIERamagFcuBew/4PptH0fHhSx45bx7FRMK9RSkBZduVdu4VSgNTgsW7pWTzmXBiR1ae6KzxGf3IIhrDgqph4V7Jb9iSGsHdBbPsKZjDqVDHH0P1C38OWPWKzOxLK8A06pFJJv7jqLhXkGxKLUY6BUUy1GLpldQlpdajLpvL5aK+EKOSCKo7yzTHMBNE8O9gpJVMohA7+xfTy88F+b0Cop/XNuRqyXNnQJ64dkxm1cKq4btbteccilXzH7/g9xfsXZIJ2pB4sWUE9eoa2taXqlv4wXGNWUW9ybndREHMF7pGxJllfTmlPbdiahTTFBPA3JHpRlFPeX1w7EZ7fnl/ZiIpSobRrJLeiNSdNxvY7zS1T+G9WBt3pH1zBCT8Epybldh1QBWUt3EIROxzpDE5oLKgeCEZvJI+mxeaergJ2Z3kls4SqXaP6aRTF8MLM4rwFRqUavVByLfoBuzY5RXUBZJLYNjRr9cbbhXUCxELVpeQVlGajHqvr3tne3nfXfDK0P8vryaJJ19XRvlFZSEnN7DV4tjs3ro5fViZq+guAbUn7hWJhyf49dhNq+gkAfqsBV6+Rkw9+1POmRgzTMLZ3S6W4FhrninTRoJ/d/sjSXZA+MVu1ulxBaRqa3B8dRVcc/QWv7UpctxyURaQTccU1Y3hCaIy9Rx74fxyhnXQigEFb+YhoRsOjLAK7ll9IOFNi6F7T2Uwt0CqmAgVEaFMsyAik6vTCjVmA1OuhFUjSbsaONiXAcQRmGJXgEmUQu8AmGcTviSbs+CsV5BWQy1XMvaHlo5Pdy9IRjlFZTFU4tAQp89zclMr6AslVqMfdHScK8kFAVlVsQkFge7RJwqbsjAz/zaZPozDYz1CkogebS3be5E3Pxeya8cxtfBmvXfwzenV1CS8vqQSIUm6b6Hr/U8mE9Mq28sXbyjWzBFM19BlL8eQHcVM8ShX5FhvALroNLcyb8dXufkW4EpSGvWH0tCs7Gdp1CoOnoF3x+IvxFYXVQ1KFfo6EyW8crAyLhAKMdSrv6Vt0JpKUIbyDlIPT6r45o3tYnPdkTBFpgT5cdDCZii0yvjYgXKJfeS8joqX0FyozNhMhUW6hWwcLUQr6AkN9yhJ+liHl5BMblabBO/xm7U9BtxYdRYr6Asklr2Rbxm4ONAOr2CsiRqOZP0DV0zDCPu29elkkpsgR/pKIy5k6/JPLxCeiuBGOhVzI75vYLiE92K3evo03cbwMxeQbF1qzjppLsLV6OeM3b1r4Ja6MY9GK/AFueuF7V1C5AZOPlQQV+lUlc3cdxDatYeTkS+gmZH75hPVP2O02keITq+JuOV7JLei+4lXf1j8AeSHvKpplewttPOBchC3l0fxh2VjonkKCRTnO06GNYM8ZCralaOea3di/gssuV6BSxQLcQrJ1M+3BT4WBuHyv50Mj+voJhWLQ6Z27Ab24KfGpUY2gvFPLyCshhqwZ4fjX6fbuhlNq+gmF8t2O2zxqjFcK9wBINF9el9nE6kKXUdpXk1SRAM/ZkGxnqlsGrYgXrpr8yQl/7M75Xk/L4j9iXBiXM83Wtmr0B1R+1L2mfpgLmzj7pvf8Yp2RCvIP+AOUgdAbp3UIQK8crk5OTnO6MR3DElq6QXXqlt5oQn0xEAucJlz9K4rA6JlDrJQIg/6ZhPPtKEeEUqV362PQo/MSUusx1eqWmmrgdoegV6C01sRuXnMxlwFZnY2UdVZvMKcqADF7NQwa7+cDCeCGyRsGivgIWohXjFr+moVfIHO0KeFSt0n0PN2ysoJlQLvHI47s390a/uN/jcf35eQTG5WnAAUaJrXOj27OjxCgpRy8GYN+xy1xpVTqV8ih3YHPg4vRnDILud2RJEt+fCcK+UN+duv/rRTodPUXY7fu4aeVqre2OCsV65HdF81KGkd9CgX42ZvZJbNnTatdzutj4rEMzplZjM7kN2xemF/fTyM2CeBzt9LW1OryAWn3EthDBQQcYAWyCIIwlApqJUqrecTEESoFCoIlNbkRCk5nfDLnnl1KZbukaT87qi0tqQrKDJE0jJDRhNuvuFX+2JrW3hKlXqdUcS+4ZEUEtQfNNZt6L0QuqOGpSG9AU+6x8ev3CzmLyMifToskeJWDrBF8iQJykmVBlFPVutUwfvXaZjGJdMHJ7yTUxG+7GruWTiImHpXgHzVgvjlciuc3siXjgS8x79wf0sxCsoUAsWP53y2Zm0LzWLTerfSdgy8N4DvHI04Z3gtlNIWS6nraOn6mXeXkEhatkU+Kht2hdae46MAbu93v8hejMGsN7vr6fSPt4Y8EjjEH02Nxv6vYKCXwS2fjThLevUj4wqW0OexIL0ZgwD5wT7Y16Bjbp5Br17YbhXKlsLcmsS53zH3iivRKZ1IUTmVdA3fufEnF5BInX1Ti315JUBiZTZvJJRPHDCsdQjVN+DT8QrOLBTdikOiG8LjG8nxS+uTcsrACf7yB5yy/pEU/2GtfcIkEPUt/EQ0JGL5Jf3V9QPq9STje08BHq4YYQnKawcIBed+oaEAqEMTchjamX3AfdQq2rlQlpwADZR3cTB5upauCQN4o5KIa2SmiFM18w2hOOKgsoB7APqUFFDGw/r6erXkZ8hwcKct8JqYT560uKwDLwC9KvFOv7viFY6CwINvIJ/+4CWEwgibrn76GU0WKBXULD4luAnzmd/pVVs0qmT6MahYnpLeiFewa561e3b4P+QIef+C/EKCtSC3UNA1NptlL1RL+IjejMGAK/4NB4+lUqNICCU6XstHL8U/V65Ek9dDwzrsGFCtoHFu+HgBv+H6c0YBv4kPGv2HEt8d1foKply7m6DDfcKwGmNZr/FFS3UszpaGO6VtML+Yw6l3lFGXFk1p1duhTdj9wZGDOrt0TxewTw4Aij0krNA7q+cdU5i1KJVtLyyfNlpkwZ1Id05cDEL+Q09dXFYHl4BUAsZw5iwYcMGeo137yIK741+6WzWFzpLaPtp8p/vXr0Lc6Y3B9CL3WPhXvk55CXn0vuiDCmR3ee0vBJf74EQ9nP4izML5jwS/xZZ0KHoJ0PO/RfoFZR1fn/1bTzM7DBTbtcf2Oj/CL0ZAyBeieo+vy/qZf3PdlugVyK6zu4OX3Ui7mN66uwY7hVIJbE4+GbMuRvRZ0n53vaF8uZcrath8Aoil4NPrc5yJ6qFhMi88qEz1ysvGjlo1cK9YnWtDLbQ2iu6eNcm5/WR3YtI7URQRspCLzYXC/fK1ds12vszVZz96skuobgE1GP/53zomblvb+uUgjUftS855kAX4pV5D19maYQkNiOXCk1s7h6Y++XKBbJsvAKgE1tbWzc3t4MHD27bto1eIxUdHkd00Pwnn61cyvt25kUPc3rFu/g0pjgUrdNZblbtZJbFuf/24L/pP/c3s1es4j49FPWWzoIvBa9gwaC2k1uCnrDP2EwvMwPze8Wr0OpqxmadBRsifzn+zcc2BTzqWXCUXmYWDPcKpOKbfC25JIwp53x24WdGRTQ9xxSVDVym91ytgkiNmEtC5DXfupNOZcYOsrtwr/jFtmrtFVMQcEn/YKkF/YjFmJNexgAW4hVkD1p7whRrZ6pne3LE6Jc0u+YeLNmo58GWOybpH9MQlpNX1q5d6+TkFBgYePbs2R07dtBrNMYrMb2XjlMXPZ6TKaYTdjN7ZW/ki1qz6Szk3P9g5Jv0krows1c2Bjy6L/qlCzlf6Swh7afIsrdq96z3fwiZGb3Y/ZjfK9uCn94Q8PCxhHdmlqPxb/s2HiGLX6/YjnQ2t11HL14MhnslqzJuVHTfNfTwbE+6ZhhMf8be0S0I3F391KNHRrFwr+iB9GecWz5k61YBGdBTDWMhXtED059xXBbVqUxynkGdynT0iaDwB8QrZuPB8goKfdEjdvqih2V6BeXeuf8WeuEZmNkr2Bn36t1ac+osVwvW4PS/eVjHGwPm98rO0GddyjZrzayznM/+Ct+xf2zWx2QN98rk5GRpY1ZmRQxz4YsvNPTVUQLxCmI3QmRmyQA91RjM4BUHn9qTzmUyIxOpRfUKjpWVU9n1IEM7waxr5R+8UmTtkMF6xYQ8cF5BIRc9PAqOkMUt1iso5Nw/oV73qa7FegXlZMqH20OeGZdp9xZlyV5BOosMZnfY8wql7lBi1H17LZp7jAuX8ApC/3HHUs/wefaTvdheuXSrGnG8Z+odDqNYPK8cvlpy0aPqjDGd9jPPGZ+wz2a9YioeRK+gnM36AiF1WEQNoWrJXkGxw7l/4GMtI+X0KjSwZK9Edp/fE/ni4ai36YXvYcleQQnvPLMz7NlTCZ/TC9+PUV4pacwMz74Vnu2J4pt87Ub0WfoDwyCDFcIHdNt4FtUrU7G4OLd8kG4bw+J5Bbt04lqpwJhBxsj9FSv7TPKNoPObIXRxC6JuI7FemQcPoldC2k9tC3nqYuqPZHEL90p0z0Ws5Hjsh/QqNLBkr6AEtlptDnrcKXsnvfwUFu4VFN+mIxsDHsFvil5eA8O9kleTdCPqjH+qM1OgGfozw3DwqUVQG5cY3TkNw2J7xf7OfEZHBovkFdLDTUO7cd2TMPftT9hnYfGZpWdoPj3mPeA8cF6J7rlwIOa1vRGvMJmyhXvlXNZqBPQhIdW5qRYW7hWUi7nf4Aho3rGwfK+g2BeuxT40D5fQq7iH4V7JrUmka/PFN6a1bZauRwxkUb0C7dE141kkrxRWDRvY07MmWs+DUf1O3iveUdr9TrIYyAPnFdv0v28Nfoovnn5p2ZK94la+FbGyqCueXv5+LNwrIe2nNfNCguV7BQniodjX94S/NLO3Y8O90tZfX9sxrSWVWhWd50M3DEO54EdCF9UrC9m9RfLK/HbpgXrO2Gw8WF5xKt24MeCRqr77rkhYrFfIBZnbxdb0wjOwZK8gOh+8Py8kWL5XzmR+sTXoSc64jh6lDPdKVK73Fyee+PzE49/bvoCy+uTTTmFW9GfmYlG9shAWySvzY5AjgTwM7HeSxUBWglc2+D90Iuk9x+J1Okt45xnyn+/dcAhxJ7jiMr3YPSzTK9jtXWHPWsf/nV5SF5bslTMZn2vlhQQL9wrmxEpKu3WMlQIM90p4tucAt1umkDBlwozjWhJYrxgI9SCZXbEh/U6yGMhK8Mq+8Fd2ha3aHfbCzIIIRfoHC+2w2R76N52dopvZK5hyLnu1zsKEKuqB14S3d4fO+sArwWK9gqMxMy8kHI1+f3fwiw4JP2vtCVOW0Cs+jYc3BDzsXzrrg1uGe6Wf06mVqOkc335RYb1iOORZMhSq38mEdlL8dfU7yWIIK8Ers4F/bOKVqSvmb+i8Yg7M6ZWs1uBD0W8fjn5nZsGcR+LfJgteyPl6S+Dj/YI5+sYws1c2Bjx6JP5N+8K1OgvMTZadLS8kNA+XbQ54fH/om7OpxeRe2R78t9Npn3jV7tNZmHQ2rMN2R+gzNomr6cV0YbhXUkvD4wsD8mqSSEkpDfeIvUB/Zi5YrxhFSkEfUYtWYb0yDx4Ir5wlV8xFuvt1MKdX9MD0Z3y9cu4ORQhm9srBqDf3hL8IPc8s+JqkfzD4YMcseSGDfrWY3Cu7Qlet9/vrpsDHZhZsiNyZi+m9eCT+rZ/DXsQfA72YLgz3Snp51CX/fdejbFEu+u3d7/J1cUMG/Zm5YL1iLGLJhHBcoVUWdfyrlcrK98qFnK+mrpgn0VNnYFFe0eoLQD9m9ooeSH/GyAsPx8E9uvNCTfSoxeRe0QPpzxjLkoe5B8c66A9mwXCvFNWnKyam387jjQ3nVFNjj5sT1issS8XK9wqKX+kZepIuLMcrB2Je1eq7TD+W5pWzWV8iOpNeDOZkNrWY3yvkYe6Cjhh66uwY7hUtjtxYE5XrTTfMxbmbFVYOWRbolbM3Ko47FFx0jWO9slJZ+V7ZG/4K3Z4Fi/HKVsy88/6+lvVjUV45l/UlonNJtxHvA+pUi5m9Yl+4lnqYu+gkPUkvxnpFJBlr6KrgCObT2cnCiUrvOnSlyNYpxdK8Mi5RnHQqhVqO2+eyXlmRrHCv7Ah+Vv8Vc2AhXjmTRL2abuCAuATL8Qr2HMW3xJZuG8xMtZjTK9AhtnUy/jO6PRdGeSUg1eVLq6e+s3n+C6snz/vuVqlV9AdmJDSlA2o5YpdvUV4BIjGlloNXim3dKryjW5hi41bBemUFsJK9Aua8Yg4sxCsu2btnjmWpH4vyyp6wl+mGkWipxZxewYZQ9D/MrYnhXqntKInN95ucnKxoyZNPyJq6q5JLwujP7uEf03jCQcfgxKYFaiHPNZERFUk55lB6Zkm9AqAWsmNaxe62ub1yyqngTmQ93WAxBSvcK4ZgIV7RPzSkTizHKztDVs2ZF+pBUy3m9MqWwCd6R40YMd5wr2RX0V3vEK+gUlifRqYwhCY2r94dY4bHjQLi2067lp+bGuydKe4hjfTHDzzf7osLiGWPhilhvWIpXpkHluMVnd1iGgWjlstx1H0m83ilpj+HrhmG4V6p7ywb5vehAq+09NZE5HhlVcaRjxh6BoRvrwutb71vWEkWM9PcycdvoaNXe6AgloXAeoX1igm8YhKIWnYHv2g2rxiLUfdXCupSR0b72/sbbG5vSyuPpKfez7ZTqfsvZKnYNySWCCSLhy9nbzqhu9selnnDeoX2yoXY9ZoB16iyhF7B+rWe0zWqWJRXANRC7qVfzP3Goegno8rJlA+xIL2ixcFwrzR1V/mlOKWWhqOeX5ucXh6l1jWCYWff2IebI866FfEF7Evd5mZUKLtws/iDTeFt3WyyYmJYr1CPjW0P+tvPIS/bJ+zSjLmGl6XySu9oCyLdwbB35q0WS/MKaBwq2hH6twOxrx6Me82ogkV+DnuRXsviYLhX2vrrIRX8aSWXhO11Xt3QVVFUn05/dj8lNUM/HIx/d33Yl7tjVi+T8s3euOP2uZrhuKN3zMoh79t9cVpzWnLBMf9+f3xh1QD9HVhMB+sVCo6od9sC1LJUXgE1/TkLUYsFesWSMdwryFFIxcpzY0ZFNCqVLflkykwUClVOaV9sRnvMMikRKa0/n814Z31oWgH1Dmx2SS9i9C7b9PDkFq05LbbgaOOYyxVL8PD3gwDrFZqFqGUJvQIWohbWK0ZhuFcK69OE4lGecOSz44+OirgiiYB5QmzFcD2g6uOtkSU1g59ui3TyrZicZO8SsdCwXplm3mpZWq+AeauF9YpRGO4VlVoVkOpyymtzQV0q7BJb4FfRsuivqpgZlUq98Xjy2+tC1x1JnFjw6JYsKwnWK/cxP7UsuVfA/NTCesUoDPfKA0JAbCO8wr5UyKIF6xVt5qEWS/AKmIdaWK8YBesVLfIr+uEVcpeFhYWB9YoOjFWLhXgFGKsW1itGwXpFi0GOGF7p6h+j2ywsU7Be0Y1RarEcrwCj1MJ6xShYrywScoVqhCchXdooZnlGa0Kpburg043ZkcqVYukE3dAA8hOOz7+rIRajYL0yK4arxaK8AgxXC+sVozCnVyTSCfvbZUHxTXRbg8Z23trDiZiBbs9AMaFy9q001W2PtILuPeeowS7HRHI7rzIyUQtska4ZiUAo9wqvS8juqG3mxGV1BMQ2ziaP6LQ2mXyO8eLqWrjY24C4xplqmZycDE5ophssiwzrFX0YqBZL8wowUC0L8YpKrRyT8vjiYUsoo+IRiUJE79miYbhXsirjatqLJpQKUuQTsnM+u1ChPzaM8vrhwDgdXgHWTvl6vALqW7l3IuroxoI5dDkbP5FVJOV2kilazO8WC3dUevhy9qiQ7msAoX+rdapKpePRsu5+4ZybGJdMnHEtRCU5t6uwUsfbjvBxbhnVaRvLYsN6ZQ4MUYsFegUYopb5eWVQ0Hk712aT1zM/uj9sUeVwyEcpdX5ypZTeUVNjuFfSy6Ne//m3M8uXVk8ZPtC9pleQKzDxFxCvaJ2VTyjVo2P0PDq9gvN9zCOVKZl3TZBnKBQqTCFNTEes13wTBVtBk3gFIHaTCkCqQZpY7bGruWQiQTiuYHqmUasnsRKlUj0zpzl4KRvfkW5MEZasu3vpW6G10rmSFRyrzOJeVEITm9MLe8hELa7Okm+xmBbWK3Mzp1os0ytgTrXMwyv1/UUbvZ52SN5V21cwJuGOywQWUrii/pQ6/4NB79tEfSdVjNO7a1IM90paeeT1KNvYAj+65PvtcfoivzY5sTgYFXqmuWC8klXSW1o7VF437BtFD/sGr6Tmd7d0jfpE1Q9xqAFGKxtGIlJaO3oFXuGUTmZ6ZWBkHHrAxOomjmdobW0Ld1ysuOheciOw+nZ4HQL6CE+C6X1DohtB1Qji+BSba+rg55f37zufiTVUNY78dIQaDxSqwDw1zZy4zPayuqHi6sEfDyUgn+jopW7gR6W1VdQPN3fyA+Kozucxfe+5zOyS3p/P3ifU+jbezA4fZ5OH/W0dPnAPrsEO0I27dzccT8aX6uwbs76WX9vMoafeD74vXWNZTFivGIR+tVisV4B+tRjrlR5eM6SSWGPuodoNR6oQ20Z/fzZmLd02KYZ7pb2/YWiqn3yCWq12i7RBpag+/bzvzyKJQQ9QMV5Jyu1saKOG59k7Fd8BvDI2LkdlmCs+5VSAymarFNIvsrNvJUyjM1/xjW4oqqIGRUb43nicium5ZX1IBVQqNbKWK56l5N5GTmkfpOXqX0k2CnafoTs3I4lLZlEPfIYKFAWvoMLM0N0vxHpIHV4h16PWH0vCT63sCl/NybeC1LHnsBpSHJ5Ad6554eb0PxEOC1EpUiuRmL60iHwORwAyQ/luf9xsd2Kwb3PmPSwLh/WKoehRiyV7BehRi7FeuZ5x2C3jEN0wNTidjyvwxxl9QlGQ5qWYjoHGhMLAlNJwTK9uK6Knzg5yl01ef2sYMP1hN9wrs7H+wpvrzr+us2/jmTBe6R0SoYIYvdU6lXwEr5CQitRhzcEExYTqm71xSCBQCqsGhOOK2byC3ILUcXaPNcAr0WltZMpOm/S88n6sAYlRz4AQTSbKa3nFPaQmOfe+EXfIDNBDemHPzaBqMjE+q4Poh7mMpsmdyHom/ZIrVFDUx1sjkRKRKVqcvzH92wyKb8LMdOMerd2j5JkCiO3S7EmJo3c58jC6wbJosF4xgtnUYuFeAbOpxSivSBSidZ5PtI3QUcO0FDdkhGS6k3pudYJfihOpA6VKGZV755tTz3IEg4oJ6iR9Tm7lWLumH6QbpgPH8HjEZzhu8/aKXCFVqvTdb9eE8cq2U6nkTgbCd9+QCBaBV8hTsxy+xPoa1aMl5lFOdaYilSkFQrl+ryA7gVdQobySTnvF/nZZYzudoAyMjNvdKmVGu9LySlpBt38MPcDi4FTqQK5xldYOdfWPXfagw7pfTEN+RT8qh3V5BQqxcaEyLUJn39hOG3pIzdoWLrFdYjb9mMDlezmQJjAE81Ay1IvECxVYrXeQeoID64/LooYhZ1YCsB7NUxaWRYL1inHoVIvlewXoVItRXunjt/7o/rBavShdwCIjIaOVAJzOrz75NKkTroWeuBJohCeymsJOR31LN0yHd/Hp9X4PnY76Zt5eMRypXIm0wMalkDsqPeNaWNfCRdCHThBwkRbcCKrOKe1DTMcpf/8wdTMJsTggrhH1zKIemULlHVlv5ZA3zJOQtRHgFc/QWsyDTyvqhyXSCVf/ygs3ixGU8enomAxBuXtAWFQ1iI3CWIjUQxwxkpjv9sc1d/KxAz8eSqht5mAHXPwqsUXsFRIFLOtwp7y+jUekFZbcAsGgSR50LqkZwlJwJOpaYHMRKa18gQwrD01sZkSIfSA32JnHmp18K2Y+J+bsW8noDdwOryurGyK37qFeiArfDvmc5r0ZnfdpWEwO6xWjmamWZeEVMFMtRnmli9uw1uNRurEIDPH70sojC+pScUb50eG/8MamI9GGi28ll4TSDQPIbYk+EW7o7XGjIGrBr3WxvYKDgOA4oVSTuyZQCEyDKEme3cJExFloQ/PsG1PgA1LXXJaB5CsjPAmJ0VgbZkOWQxIdAtbALIWVD3PFaJKtkzmxWvIpPMRcU8KqkOKQOkB2NSaiM0tsgty/IU0tsBTEo7ksaO0ajcloHxuXe4TUkCkQFbmRowk2qnl/HjtG7jkRCisHUKC9qHsX+vBdmIt+LIvKEnhlz549tCiMxEK8ArTUsly8ArTUYh6vjIz234g6U9+p71TRI/ZCWJaHfEIGnYRmur/+829FEvoiDCpv7Pm3QR51Hmogi+cVALXg14pyIOYVpqBpWq+YHAR3t4Cq1Pxuy78QNCqUIY9BakWeMiBopiYEZFTIbOjGDHoGhInZnch4yFNqIDy5ZTa9sZgWc3vl1q1bP/zww5EjR2hXGIPleAVoqmUZeQVoqsVs+UpOdcK7B/6kmYJoEpjudtFvL924e9cr/vJ3Ns/Tjbt3C2pTvrJ+hm7oQiIbP+21Jb4wgG4vsldAYsOt67n7tUpJN/UMrsWCRARn/UgO5nxrfcmBVJDl3Aiq1kykkGZVNtx3V595GEwnIYnNyGCwEtLs7Btr7py7GxgWk2BurwBPT8/5qcWivAIYtewMXrWMvAIYtWD3zOMVpUr52fFHg9Kv020N1Gr1J0cfLm+efrHuSuBBpC904+7d61G2Z7x30o0pmDsxDFiktZe6bUtYbK+wLCoDI+M1zRzNdzDnAVKZ6iYOOyLkkrAEXgHzU4uleQUQtSA6W6V8cKt2r1Zxr9plmV4BRC3YvauFP2rtNsrlvO/wET3rPRZ4f8U++MiWK+/TDQ3GpcLXf/4tfpKmTCH59vQqnnD6zHSb3YfReT50g3pyLJMZKx6zJRWH5NUkbb/6kebDu6xXWFiWkKXxCpiHWizQKwBqQQhG2RL0uFbZHPTYhoCHW0bK6VktDKhlas//qrXbKBv8H9oUoK2QBXqluq0I/ujj6Ohgaof9x30j1COhk5OTDiFHc6oTyHQglore2vu7zkGqx0ClaqKgLnXDxbeQ/aAJqVh5bpRPyJp7ao7cWDM1O82y8ApE+OSTTyYkTH/ZmbS3T79PzsKyXFgyrwBj1WKZXnlwWKBX4IzVJ5/2Tb5GtzWAIbwSrkTlevulODX1TL8fA2G4x5y/FnrCJ9kRH7lGnkY9rSyCfBqY7hab74dKdlV8QKoLmUiAV46GfiqQcKQKsXpyOo+xKF599dV/+Id/+Kd/+qfTp0/Tk+4nPz//v/7rv+gGC8vyYSm9AoxSy0K8olQpOCLqFS2WebNArwDXiFPrL7xBNxYMvFLckAFd2dzeVtNepHnTBV7Z6PU00x/ldp8Xj4V9Zpe0zb/wEj4aEHQs+TNR+/bt+8d//MeSkhI3N7df/OIXH3zwAf3BPbhcLqyDj+g2C8vyYYm9AgxXi7FegUtahiqiK25ciNuw4dZTYaXTr3CzzAPGKyLJWG51QlZl3GwltyZRItPR8yNyjtd//i25qLVwZApJfGFAcklYUX16eLan5sNmWl6ZWXb6vnIz82hpZ6pCadAL/KYlJCQEUvHxoW8aZWdn//KXv/zP//xPPn/6gaX/+I//gFd+//vf020WluXDEnilbwq6MYWBajHQKx0jtTGVNy/Gb4RLNENJVY+OziRYDIfxil3gIehBf3GN1L62k1gcHJHj9YPti7fiLtGTpjjm/tO686+bqkjkVLci8MrP/m8EFF32yj3tmn7gfNy6Q8Efbrj1pObfAymbbz97K8caX43sjBlobGz8l3/5F+QrdHuKrq6uxx9//P/8n/9TXEw95fHuu++ivm7dukW9DqbgiwRVnSrZUvaXNd4xJGxa6IWECZF0JKuOV6S7j31DwEEYTqvujypWjI6rlSrZMP3ulBaTanVvUB7d0Iugumu0krplqIWcJxpOXZSekCyKJfCKlZXV5cuX6cY9DFGLgV5pHizb4fOSVvhAcUzZndUU1stvXaSeSFY8jFcqWvIOX//hoOu3s5UjN9bUddzXoVNaeaRd0GFUvOIv/3DmJTKR0Mfp7BhoMlUhT4XBKzPv26sn1cPCnuKOJN+C80dCPtb68zgT8yPOPBb7+phEIvntb38LbahU2n+EYrF49erV//zP/7xq1apf/OIXubm5J06cWFSviFoHs9+0Fnfp7urRKMbqenLepTpsNpaBmJK8j87SDYNRjsvSnz00IaQ6FxB3j9Qe81UrlF23MwwM+lr0BufXWwdCb1htl3dm6Tpn2I7+7H6wCekg1W+NfjpupkDY7deTsW/0JA36o0vGauczDNoywqxeSUlJwcka3ZjBnGox/DoYd3zAKuJLrcDBlM23n7kQtyGkxLGiK0Mg0T1OA8tM5n1/Jac6YY/TF2S0xPb+BmQzzT10/xxaSGTjpN/ihi66B3UGwTgvqzJuVMSl23rR6RUt4BjktchjNP82Tkd92zigo4tDU/Hkk0/++c9/Hh3VHZtgNVtb23/4h3+4efMmmkePHv3rX/9KPlokyrdeN4lXcL7PzaeHIDMKJAfz8ApAgkIqrY6xnFwq3RQ29M7ju7Q6xTeene4iCBlJ5isn6Mb9QGOac84GnFG9/zYq0FVPwH3DnRGwiZoj08/Nr0jM6pUrV67o94F+tRh1f0WulLqmH9QMGbOVvQFvOaXujavybBgoNsNYtsuX+XmloC71O5vn+cJpf/949pXrUbZ0QwP5hMw18jS5kJVeHqX5EiU04xBybFwqPOb+kyEphSFeIWBt+L3bJ+/U/JNAastdhKc88LeNdKShYY5rbtXV9HWSQ4cOLZ5XFHwRAqWmV+ScMUF1l3qCeoZ7UqWWDQtUUoVidFzOpV4tQl3aR/d2DNAcreiYGKP7taQ+HaBuDiFvQIVafGSM+VQLpUSO/EYlp1571PSKUizDOpE0kCZA3iBqGcA+oA51CWq65DwRVktvRY0UVN1wJoSb10hNGRzFp2RBrByaIZf48BMfkW9EPmXACtNXHcFHdHsKmIau3Q+SIWyIbsxOyVonfhnVCxmE1+2TRSZqUXvUl3yplYr5vOLh4fHdd98h/e/t7a2tnX41Wgs9ajH2vj1CBmxBIkVGQ/CoeKSsMy2o+OrZmLVat140C05g3TIOJdbcwXnrIg07uOwgV5BwTNa6G+eVmvbij4881NJ7X3bim3ztK+tnNF9jJBQ3ZPx87XO6Qb3U8gnJTqCT9RfeRCqDuvWtTW39VC+5+jHcKwy9/FbohPkzIMOXmfCSqYuLyy9+8YvY2Fi6bQD79+9/6KGH6IbpQAiuPx3ML2lFhpH9Bn0drNs/ezChApEXYRpRGAG94ItLiLAI9M2Xo9rcEpETDKdV150MxMwTImndcX9ERjSxHkwZTqlKfeoAKqOVHZkvH+8NyRfW91bt80Jwx0RNkGc0XYzAJqr2emE9jFegBOwV1llz2IdcJuq8lQZ5YM4Gm2AosP16MoQ0EFMyGF+OvUr720GoUdTcX/yDQ711IIJ+zSHvxnNhWFDUOlh3wl82JMB0uHAkszbjxWN94YW579tqJTRlG11nWgTHh67dT9WeW+TKmyYQasIftmJPSBNSTPzzduw/StE3dtg0ma4FjvZIxqwxcAVgDq/09PR4e3uvXr1aqZx6nY3Hw3+LXD7rczizqcVYrxCqerK33Hmum3dfkq5SKzElozHEM/vksdBP17o/wgQUrXIw6APntP2xVR7VvbkCCWexr79bAviO+Ka1fQUQiUfWCeuIr5hnq3Cg6JkMo6Qxc+Zw7iLJmHO4NXkRUguVWiVXSMm790dv/FjcQA2PeDvB7kbUmanP7x5w+aasOYfU9TAPrxBahirxfZnf/pmYH03yeHpfX98//dM/Pf7443TbMPbs2fPwww/TDdOBSNoTQB/D4h8cEWoR0/M/ozvOQUAs2+yGStOlyA4PahgxXkFzyY/0W0fZb1rjJ+avPUa9OYQTc+aSDqI2qVTsuAkDodLtl93pRfeMwAD9IBajgvXDIoxXJD1cKA2VkfQacrmp9CcnKhGZUEJOyFpK1zljV/HHSVxV9J09ieZwCdkcJ6eeeAVfipiJX9zSdIF6+jzrVSsqf5phhaS/7hJU0S/qQifYHyRDWmkW5eBi6okA5iAAzAkNkzpyL1IBsC98DLmiJP7HDoWASr4Bdhs5CtIj0hxKrpotlVkZmMMrvr6+r7zyikJB/TEJBIJVq1ZduXIlJSWlsrKSzDATnWqZn1fAoKBL/4mnbELcPFiG81PX9IMHg95nwsrMst3nxQtx630LLmQ1hbUNV6+AhAZ/8WMSbsNAcWp9wJ08WyRz271f0PrWTDHWK0bRz+lyiTiVXBKWXRWfURG94eJbWZVxSGu+tHqqtoMeKurzE48vUr7CgD8VHIpNXs+Qr7z59rPFHdQwugtk+/bt//iP/3j06NGZidps7Nq165FHDDrgY+v8BX/3HPvRd7qs9VO26L7ZULLGkbkXQryCiIwKmSLnjCEVQAVxH8kBKvAKUoGpD+8y9x5gpm7fLOQQ5F4C0PQKCeuYh5iJAeE45bHpDkYB4xX8HXbdycAirY6xCOWYgniNU/7kh3YjcUGz0zMt6/WTGS8cHW+nbqrr8Urqk/uHkirhJOQE5MpVzju63zyN/91mcvkOIL9BGhH3b5uYOzcEfHdiGhw3MgUIqrvKNrnSDQ2whparMahg5zU9BCp3exKhAuwqvg6pr0jMdB0sPT1dpVKJRCIIJjo6mkzUetRSi5lqmbdXjEUsFyLOJtTchmYOh3zERFWdZY//m1cStvgVXEhvCKrvL+KLh/EfQq/I8lCqFAOCjoqujPhqL49sK9vo77feeV7rG2mV3X6vXU7YHFB0ObLcbX737Q2BIxhcf+EN5rZ8bnXCW3t/3zXY0j3U+sGh//RLcfJPdXYKO/nugT+R+/8EkUQQmOaqObgkYSFeISBNORe7ljkIOJNQqhfUDSLw8fH5X//rf3388cdC4ay9u2sCFT322GN0Qy+cX51A4T9vP/qmCym8xy5y/+OMTrXUnQwcjKf7FiJekfRy8z+l8xVkBkXfXkVFj1d6g/PrTvijMlreDq+Mt1G92RvilUm1Ovnhn/GTqk9OwmGMVxBnmy9HoYKwDq9gnTipR1MlU2B/EKbJ3R2suc6K6rhaj1cKV18huwSwCfzMeU/H/TxQ8PklLEU3sOmMWixL6tg9yGk4tRp5EpkCkei8REa+DqE3hL5XX3vMF+5BBZ8is8F3Kd8yfb9wILa0P3rWwZJXAOa7v5KYmPj000+HhtIPVAQFBX311VeokDxGJ1pqMZtXtJBNSFqHq9LqA71yTyMQb75Nn8nOVjbceupo6Kf2yTshm5Q6v/Ku9C5ug0gmMKdvsC2hlN/JqS/pSImvvnU71+ZSwqb9ge/queJHCjRzJmYNEhd836bB0nHZ9K3OeT8PZgh2gYecw6lrLISc6oQfbF9EJa8maZ8z9XcConK9be9sJ3VCQKpLcUNmVO4dun2PhXsFIHGJqrjOHDFkcjik9Gfzpaam5te//vVf/vKX1lbqtoR+Nm/e/MQTT9ANvYz83ymvvOAgD6lUxNWjyCNrRt9y0akW2bCgaq8XQiSMkvH8EfI6RdOFcH5J66SKug2OIK4cl1Xt82pzSVCKZQiUpT854Zx9vGMo9Yn9WLwnMLfBlrpmheCIsDsQVybt56c9cwjn/shICr68jOlYQ9PFiAabYKXkvivelGxupqAylFiBoI9tZb58HJUO95TWa3H4u8XmKnd6DMaXwRxyngjigeF4RS3EZBBGX1ghpkMV/LK2CZEUeQASGuoR4TsZqGMKAjrcgwXhSMyDRCT92UPCpn6t+/MAlsLekvv5+Ar4yiTbAO3XkwRVndgxxqkt9jHEl5rg+MT/fjOxF8BK2twSMRt+kimQpah1EIcOh4JMAc1XohjzrUjM5xUQExPT1kY9KREREfH666+LxdTFR2dnZzSnPteBplqWyita4E8fJ7OV3VlxVZ43s45ZR3y1yetvTFzWU+AbRHbb6B+cUvf65J9DzEprCCzuSEJuhJA9LOwZk/IUSvmc+sEMEyoFYtzQWHf7SE11T05eSzSyq8Aiu+sZRy7ErT8Y9IHOdwBnlp2+r5yL/QkWSa7zre8v1H8DaVG9svbcq1mVcXTj7t1L/vuILTIqoi8F7CcTdzl8ptl7WD+n6/D170sbs6Ry7eeOTOIVQuNACfM61L6At/v42j7o6enZu3evr6+vTDb9IJMexsfHH3nkkX/5l39JSprj8tqGDRtwKkY39DLybydrNlzv/9sF3qqr49YJ4lOJKOPH40geM1MtE0IpN69RWN+LXAQn++SXjmiIE3aSBCDU8kvbYBrZyBi/uAV1pAujlR2oCBupl5oxkZNdjyA+WtFB9EA+EnePUAsWt1ALlrSiTh4n0wRxFufvCPeoUzOXtmEK6tz8JmQPKqkCC8JP4s5hVLCfmAKRYAewRRLZEaaxFDaNlUxvbmo/yWqxUXwXcsUMRqHmKWnVmW1g5zu90nuD8rBp6j/r3s2V4u/t8ROpRn9EEb4m6vh2kM3Uh/eBBAuGphtTm9N8I7JkLZVMY/3wN3ODp/qA9pnQCsOsXgHwipWV1SuvvEIuBZArY8eOHSsrm3UwQUYtFuKVmeDPkT8+hLgMT/gWXLiatP1IyMcGRvaZBbF7k9cz231e/NnvdQQyqOhA0Huo7PF/c6fPy5tvP4sZtBYxpCDNQqh1TtsXWnoNYbdtuFozFzGERfXKCY/1JY3UXXrQ3t+AHEU1dUusa7DlnM8uVOAPzYQGtPXXrzv/el1HqVhKP43DYEKvAN744MmI1eQw4rcAqdMfTIEzpOxs6oVKDw8PepIBrF69+he/+MWVK/RVF5389NNPzzyjb0AzBnilauvNYitvIhLuIxfo8l9n0RzbRD3ExWIUyNtgCwgASmBeb2w8G6p51YtACWlGJsSAxA7rqdhxsy+8kCRGyKKQ8JFPVyrm9gpITU3196dSWuQrb775JpIY1KuqqvDPOfW5Dohavv/+e8v0ik7Uk+pR8UjLUEVhW3xslSdyAvgG4Wm332vzE4OBZZv3CyfCPrdP2oEtYrvYOnIak1yFW1SvDPJ6zvvuRnYSkeNFvcWi0b2Yd6J9QlGQX8o1rTveSpVyj5NueZjWK0CulDqn7cfXr+0roCdNnU+EhYXhrAj1oaGhd955x8vLq6uLfuZnTn7zm9/8wz/8w8DAAN2ewZo1a1atWkU39EK8UmTrO/DIGdGeCJlPKVP4z9uPbZweSdMSQIqA9IJuWCpQBXQCizA39oG0nw/N0I17IO2ja7pQK1WSHi7WRhIpVNqc4xf+z2jhLIFXgEQikUql+D/EvyWZwuFw5ryND6+ADRs24Oe2bdvoD5YharVqTMLt47c2DZaWdqZmNobGV98KK3NCruORdcIpdS8MdCFuw9mYtTZR352O+vZU5DeonIlZcyFu/ZXErcg53LOO+xacxyKJNXdyW6Iqu7M6Rmq54wNap9KmpZffCm8tarfz3LEh+YRBV5NAz3Db5QDqnYmZZDWF4aDRDROBLw5D0427d5ubm2/duuXs7FxcXHzz5s0XXnghKSmptrY2MzNzeFj3cMuaIFNBvpKcnEy37yEQCDDx9OnT7733Hqzz4ovUTaY5WV5eif7/fkShG8sNknPMG4VATF4IXdksjVfkcvmHH364e/duun337pEjRxwdHXFCGh+v+2VXkJubG3EPPckNyyKBpAcn7D080/RGvHCQ3IRn36Ib9wNDO6XuoRuLgFAo/Omnn6qrqxH9oQGcfjK5VFlZ2VtvvUXqs5GVlfU//+f/JBfBsGBNTY27u/u6dev+8pe/wCX//M///Mc//vHtt9++fPmynmxGE9YrLBbFEnglNDT0jTfeuH37Nv6dAE7ujh8//thjjyGJUSqVzz33XEWFdt9QBtIz2tTJW8lvsS45jim7vXJ1vwpgTsRSUWZFjHvM+d4RHcMpyiYkW++sQg5HtxdGVV/mmFS7UzKcGCGBRgVp9/vvv9/dTT8m1NfX9/DDD3t4eJw/f362/lqGhob+x//4H//yL/9y4sSJ119/HRb57//9v//mN7954okntm7dmpp634O5BrKMvKIYHSdesfxLYSzzZmnyFZypDQ5ST4BUVVWdOnXK1dUVUlGpVN988429PfUYRlPTfPqwc88/fC3L0u+7LGtahirXez5R0Db94NaSIBjnQSrJJfRFVE2UKoV90o7jYX83yfU6lVq5zu8vlb3aL40DJNZkuIfo6Ojr16lXE/h8/vPPP19SQr2X4OLiorOzImQnv/rVr5CUQC1//vOfkbU7OztzuQZ1pqmHZeSVpgvhlFf+dS15+ZFlRbI0XgFa92DB+vXrcZZH6nZ2dk5ORg/DFVB2/nTCl3SDZXEobk+EWm7n2vTyWy3q9uOESlHSkXwq8psjIR+bqptqzngfvNIyQr9FqEVWVhZSk40bN+IkycfHB1JJT582EM6NLl68qDkFJCYm7tmzJz8/n26biOXild7gfBil81Zat182Kt3+7NXslcmSeUUL/PsdPkyNzwGQxDzzzDP9/f1IYtAsLCysq7uvZ4XZqO7PRhQQSHS8Y8xiQlqGKhySd631eHSt+yPrPJ+wkPKj+8M7fF4KKXEQyeYeIcNAUpt8dwQ/Y+Cb9sjCOzqmX1yAdSIiIkZHR5l3gReP+XkFpwV9oQXlW64X/+BohpL5yglkKrVHfcnW660DoZaMF49pzbZIpWyzW09g7op/EMtCsBSv4B8yI4PqoLC8vBxSIResUf/d737n6qqjHx6d4Ix1W9DTGS3s0/rmAOG7h9fcwamzhNLJqR8QdChN/TjcpdSfbuTpfuRMJ+RVX3IH0cbGBudDw8PDW7ZsIZ8uHvPwyoRQmvOebfQv1xZ+dQVqWfSy9XrNER+mk0fCWG03NIOPtGdehFL0jV3M//4p+01rpi9IlsXDUrwC6uvrb9269Yc//KG9nboZq1Kpvv7660OHDt2+TXdsZwjXc/dZxX2yqI/bsjwgdPHq1/s/VNoz/Sjw+fPnebzpMUhm4+233+ZwqAtxubm5Tz75JDlh0mRgYIDchjEV8/BK6QaXpL/u0v/uxQpD1Nyf/Ogeze4jWRYJC/IKKCsr27+f6rRDrVavWbPmwgWqL7zOzk7Swb4hcMZ7twf/zbdEdzdzLCwGIp0YPxz1zpW09cz9f5lM9tZbb7m4uPD5c/QSFhkZ2dvbKxKJPvroI5wqYQry75s3b2I6ua0oFAr1jBo5D4z1Cq+gOfr/+1Gzy8UHBF5RC764Vo/FLCbHsrwCSCdLNjY2p06dIlOMpbQ7aZ3fX6JqXNishWV+cMf7YZQ9YS8xTxgje/7iiy+srKwgjA8//JBM1ENtbe3x48fPnj3b0dGRmpr6n//5n8nJyVwuNygoSC6Xv/vuu3Fxpnymzliv1B7zy3iJ6iZgqVALJMpuvlZRCw19JXYhZL9hveK751pyLM4rBPLKZE5OzsTEfN5NTWn03hr01MHIN+Pqbua1R+Z3RD3gpbwndWBMx6seBJySNw+XFnXFay31AJbs1hD/snObAx47FvNBB5d6ux5pB0ywadOma9eo4TSQOqelGTRyRmVlpZ+fX3Nz8yOPPMK8y4KM/L333vP2prvItba2hqhIfSEY6xVIRbN7XfPDf+Ua6cpMs3D/ZDtRZ9B7oAuh6WJE2jOH6AbL4mChXmlsbIyJidF8uoZQU1NDbo3OiUAy4lV4Yn/E6xDMlsAnHvCCBA7lRt4Bvpjq4VWThqFCq7hP8elG/0e0lnoAy47gZ2CUlCYflZq+9Iq/t/Xr1+/aRfV9SYiIiPjkk0/s7e0LCqb7CpsNLL5nD/3m/+Tk5Pfff3/1KjW6CQFeGRrS/o3MA2O9UncykHSPv1SMvuNKieTPttLreTLfUqrcKR59180MahnJqqs9Rj+TxrJIWKhXZqO7u/v1118fH2eHnTcORMmK3rTDUe8gdLZyprszCK9yhFEcs7bryWZYVCrVjRs3SD0yMvL3v/89ueuOxMWQXibv3KGvuvz8889Hjhwh9RMnTuAkidQXzjzu2y8tox+7dz9/se+5i7xn7WRBFfSYMVG1o+9dN0/WwrKoLDOv8Pn8//bf/htzGYHFKJQqBRSyP+K1cTnVdx553Se7lRqgicVA3nrrrZ6enoyMjM7OzsuXL5eVlfX3zzEAfm9vb1JS0tq1azds2ECm8Hi8VatW6RmH21iWo1e6Xr5cbO09+B821EWw35+iy7+dJNfE6PlYlifLwyvM20yNjY3/+3//b1SCgoJM+DjNg4NYPnYg8g2n7J1CGW9X6POeBUfpD1gM49Ah+tJ8QUHBRx99pFarnZycgoPnuFchk8leeumlkRHqjV2xWPzaa69lZZmm+zLCMvUKdrjxS+pGi9g2iSmCL724f2af51zeLA+vHDhw4MqVK1ZWVj/88MMvf/nLffv2bdmyZfXq1Ya8TMCiRVVfFtKUgLLzO0OekyvpAexYDCQiIoL81Uml9KH75ptvrl27Nue1WYVCUVdXhywHNoqMjMQUOzu7V1555erVq5mZ9IBm82b5eqX+G2fO05c1d1h0IIr7CD3YPssyZXl4RS6X79ixAyd9SFPeeecdMnFsbEylooYUZDEKpXpiR/AzUIt7Pt1xDotRFBUVJScnk45TuVzuyy+/TKZ7eXmRih5Onz5NxgG7fv36E088QS6FpaWltbS0TH0+T1ivsFgUy+n+CiyCTGXNmjV0m2W+XEnfAK+U98ynS3YWTZBteHh44C8zPj7+xIkTiYmJ9AezQ+75v/nmm3BScXExkpgjR47U1NSQbibmB+sVFotiOXllYmLi22+/PXDAiP6aWHTilrsPXhmXL/0NqjEx3/ABImdDJBmTyqkuSs3P008/HRwcHBYWJhKJJicnCwoKUEcmTX88O5AQqVRVVW3cuBGVwMDAkydPkonGwnqFxaJYTl4BODHctWvXzD72zYNMIYnK9fZOchCIlvd9nTvF1vCKgd30GoVELo7MuR2a6Z5QGFjVWtg52Nw1OOsVHsggOIN+flc/POFIamk41km37wcB3T/VeUK5uN0rODo61tff1/EJh8O5dOkSubOiVCo/+eQTnPc0NDRER0eTq2R6SElJaWlpwakSeX8Fq3r44Ydv3ryJjId0420UrFdYLIpl5hWwhPdUPGIv1HeWB6S6dA+30pP00txjshcUDKSl16AtyibE+R1RdEMDfK+FZA8NXRXH3H/q49B91ubVJH1l/QxMQ5ozgaH1fMogV0jP+/6sVCkh9Zr2Inrq/fDGhkMybtKNRQCnMl988YWPjw/dnoGbm9tPP/0UEhICwfT29qJJfzA7jY2NGRkZsAhynRdeeCEmJoZMP3PmDKkYDusVFoti+XllCTl648cx8Rx9DjIgQAemzx1cTItP8oL6ag3PvjUuFdINI4GT1p1/XSi+79rafpev6doMcCRvRJ+lG3rxir+cXk5ZMDbfLyp31p6dnMKsFi9l2bp1KxmOfjbWr18vFAohFahly5YtOTk5ubm5hoyo7evr+/bbbwcE0KE/MDBwz549CoVCLpd3d3ejSabrh/UKi0XBesVQBrjduxw+q2zJx6kxmkP8vrLmnI4BerxksVRU1pRdWJ+mmJCjKZKMOYYevxJ4ECkLPuILOaWNWYO8HnxU21FS3pyLCppF9ekiiaC4IRM/MQUxHeusaS9GfSbYFj7t51AvePeNdHQMNOIn6m399SjjkrGIHK/djp9jizzhCLU/zTmYoam7qnuIyq6kcgn2sKA2RaaYvszSO9KeX5vc1EN16YGfX1n/raq1kLlyJRjnFTdkYCmVmsoRMb2gLhUZBr7mzLQGm545MHBcgT9dm0FCURBWTjc0wJ6To0HA3mKviDA84y7GFviR6TPBtnAk6YZJsbKyYgadmw1nZ2dyeXZycjI6OhqVuLi4999/f87Oj9vb29esWUPe0EpNTX355ZfHx8chlbfeeguLG9g/HusVFouC9YqhDPJ6dzv+HUpA1K5pL7oRRV2swBl0bg31CJDN7W0IiJDNCY/1aOK0PSDVxS7ocGtfnUQ2jgB9yX8fZsZHFS15P5x5CZWR0f69zqv9Uq6FZXn4Jl8TiHinb2+VK6SQxMwT+dTScGgDFY/Yi629tUgOjrn/5JVAnUEfd1+H03lsEYZAcMcWoTFs9HaC3SmvzfDEDvtPMNsFvz3YBKR4yO17EsWwFLaLCuI1fEkSDliNXOWDxrAbiJVYG3ZeqVJCQmvPvppZEeMaeTqjggqdDC29Ne8d+POc19CwEqWKDpT2wUe4Yzq6xnKNOHU5YPrRjLyapPUX3siuikfZavcBvg79Ab226QEUGroqvJMc6IbpcHJyYt6T14NEIomIiEhPT6+qqkKzpKTk0UcfjY+PP3bsWFGR7mt3DBwOp6CgICMj49lnnyVj3cNJEIydnZ2BvVKazSvylCa1zARJIeuVlQ3rFSM4fP0HSAUVhG+kC6ggwzjo9h0qCM3kLHvLlffJs0mI2l7xl1EhBKVfJ17BqTfxCkAARdwkdawhMocewWz71Y9I6Gf44sQTJGojHXEKs0IFKRE8h6SEZBsAcf/ojR9JHSA1gQ/oxtTNDJJp7XP+amR0AML4/MTjJLvKqowlOcrWK+8z18HgLRiO1G/GnEsrp17lY764FnDez9c+pxuIGiIu0jskZHAnPWkq83CPOX/mzg7ShA7J1gnBGTcgZlQwm+ZNF7jNJ9kRbsM+f3L0YXiXTMc8HrEXznjvJE2A5MwhxMTdBwQEBHz++efklp6rq2twcHBr6xy31pBhNDU1PffccwMDVCdXyF16enrIMF96QI7ywQcfECfl5eX97W9/I29fYtmpz+fAbF4R7Y/kv+FMNxaAyb0ytilwqR7nYZkJ6xUjYLzy8ZGHkBwgd0FB+MYUVLwT7XEWjzN6co/BQK8wd9oRZxH6yToRxDXPxJHuYIvko5LGzOo2+vwXUtlm9yFjoJle0dwBJCLIYLBXmy6/i7yKIxj80uop+rN7aHrl29PPYTZSx86T/Awm07qDQgjJuGnlST0sS4BUsMhX1n/TfHKhqD49vjCAccaxm2uZ74gK9MxsTpNzPruQ4aGCn+d9fyYTAdJE5HCaBkJCaRdosv7PR0dH9+3b99Zbb5EBgcCZM2f4fL6/v7/+HrV9fX0ffvjhtrY20kSw++6773JycpC7aJ0raAEh1dTUDA8PP/nkk8Z2nm82rwi3BHF+dUJ4SMdDH0Zhcq9w/2zLe266o2iWpYX1ihEwXtnl8Bm5twEEIl4/p2vjxbdJlNxq9wGm4FQdjiFhnYgH5+PEKwjcml5p7a0ldQRuhF1SHxPzNU++EI/gAObsHtkAmZhYHIzVIoKT6dgl4hU4Dz8pr0xdKAPIVH46/xpZA/IVRPDOwabPjj/KRHby5DR2HrtX2piFOQ+5fd/eT48agjyDPOMLr2je/GBo7K7E+unGFKGZ7hf99tKNqdtRyFSoy33j9CPa1HW5e3U94BCR63KQSudgM5kIb52+vTUg1UXzMYrWvjrsJ90wBQKBwMXFRaFQ/PDDD19//fXNmzclEomtrW15eTk9xyyEhoaSAVfgJKzkL3/5C5wBJ+m/80+AfrC4VCotLS2lJxmAOfMVql/I356URS6om32Te4Xzayvs2PgF9lVfi4D1iqEoVROIqiTUVrYWuEZQw1mKpaK8mqSOgabdjtRVIO7Y0ObL7+Ekvb6zvKmnGoFVrpAW1lPDQOH82j+VuoCAJAOpgHxCplKrTnttQRAnp7F8IcfKY4NMIYFRcCaOKZokFYeEZLqjMjI6gDUguDuFnUR4xcxbrryPPAYViWyc3ErJrIjBOpNLQh1DjxNzwHxIUzARgRhShAawXYR+8ngVEh2SA9ne2d4x0JhdFY86vgLJUbCtk54bYRpkWlhJzzB9Jq4FtBGTTw9rAa3ucfpC63UTZB6aby8GprvpfELhVtwl53BrunH3bkppOGar7ywLz/akJ02BXdW6nQORY2a6YTqKioq2b9+OCtxgY2Pz4osvKpXKvLw8JiOZDcy2f/9+/F62bt0KGxUUFBjSWQuWCg4OjomJ0TyxmBNzeoX31GXBV16cP9go2+nBNOeB6fOVJy5x/3qO82/W8kyD3gFgWVRYrxhKVWthWlkECrlngJPorMq4ypZ88mltRwmaMApOzDEPUUVOdUJWZSyTE+RWJyCHwAw40cbMCO5khQjrZAYEfSihuCEDNiJTNGnqroLDGrqoR1cL6lKxILyCSI1gyqykrqMUTawHhiMrJxeRABbHyrFR5C5QDglb+FLYSbJOgKwFORNz8Qo2gg5RSATHqrBCOI8kbVpghfjUJ9kRWVRxQyZ2TOuKmeaFMtA12ILjQDc0QNbF3GcCOJJF9ekzDaS1NuAWaUOyLtOimhp8Bd8uMzPzqaeeIn0SV1ZWPvLII3V1+oZJr66uJkNMCoXCJ598EhWs5ODBg7GxsX19Oq74LQQze0V6p4T/kiP30QtqBf23bSyL4RXhhoDRj29y/myrHqZu1LEsIaxXWMwB5Hr69la6cQ+kU0TAWsz5uDCSJ+b+PwFTSHa1GMjlciQoL7/8cn19PfHKvn37UlJSsPP6uzEuKysrLi5OT08nw3kh4zl9+jQqmm9N8ng8ZtCweWNmr2C1kut53L+cHX2fvgZrLIvkFalXEe8ZO+yhUdkei8lhvcJiDtr7G5j7QAzIsWa+4II8Rufzx5ogo9J6uz4825Pcdlo8vL29Y2KoC4zQwzPPPEMi15YtW8LD9V18GxwcLCkpGRgYeOONN7Zt2xYSEoIE6PPPP2c6a+np6Xn00UeHh6lH9eaNab0iccmlbqL82kpH+dUJ3uMXyZrF51M5vz05bk1dNTWW+XlFGlgmOhGns2Df4BUsLnHK5v7RRvD1dMrLYn5Yr7AsOg4hRwNSXXTaAoaY860XLa4GHcba+MLpJ3dFkjHmBVUzAJFYW1sXFRVFRES0t7fPeaMFeHl53bxJiRA6Wb9+PeloEnC53FWrVpHHixeCab0idsqGP8TnUnSXy+nMykW7w6EWeSL9fIfhzM8rvFX2lNgeuzizcB86L9odRtYwbp0AzYgdFuUlWRZDYL3CsujMvNeyECRysc5n0haV0dFR5Cikvnr1ahcXF/J6CsSwadOmrVu3BgcH67kmRh5QRopz48aNTz75RKmkbktg/ldffTU7O5vMsxBM7hXun201V6KnCD735PzRRtlr3O93nl553l6w2ktz5tmKcFMg59+tFfn0Q5uzoeoTTJT1aBVV/xx/XZIeDjevcdK8l9rGO4Z4hfTzkFpI+/nc/CaVXF/XDBNjYn5Jq5wza0/baoVytKJjvG2O/lINhPUKC8vcyOVymCMpKQnJCnPNSqFQPPHEE7t37ybN27f1XXsRCoVZWVkvvvhiU1MTFgQffPAB6fFl4SyhV6S3i7EJ3uOXjLqlsdheQRn94Ab3P86oefpeNqL0MzWcPud3p+jy25PcP9lOVE+/zzsTYUNv2tMHVabod0AlVSQ/ukc2MvfACoLqrrRndL+eBRlkvWYlHdDXYxCMUrH9Zn80NfaPTpRiWd3JwI6b1EsRC4f1CgvLPIEVDhw40N/fD9+MjY0hcZFOQX88g8nJyZs3b6alpSEEf/vtt4aML2kgS+gVFIlrLvc/z4x+Sj0HbyBm8Ir0VhHvqcu8Z+3ohXUxfioBUuE+fF52u1gRV0+KcJ0/vv5EjT615H101iReAZzcBp1Pr8wk523qoQ+dlPx4Tb9XQJtzvB6vgOqDdwQ1VPeDC4f1CgvLPAkICCADCfP5/HXr1qWmporF4vfff390VN9FoeTk5K+++urCBd2hc34srVdQxGeSOb+2Gj9HvZBrCGbwCorEMYvzB5uxNbOObjBuk9T56uXO165ALRL7TKl7ASmj77nBNxPF3fR8Gsi5QpV8QtMrSAXGarsnVVS6plaqkHwgC5kYk2BOMkXaPx3xMRsyD+Z6lHpCKRsSYJ5JtRrzK8dlKLOlL4xXMDMEIBuevl5HvEJWRU+aOo8RtQ4q+PRT13q8gk2rFcqcd23It1g4rFdYWOYJdBIcHIyKTCYjp5weHh4vvPBCYmKi/pv5165dq79/iLAFsuReQXLA+d0p/ouG9vtpHq+gjJ+IhyEkt6a7K9UEXul47UqRjc/Q/7OmL4jdX+j5plCMjtefCoIVRjJqU586QLzSeSttKLlK2sfDR/AB4njBF5daHWP5xS34iVCOmXlFLZU7PTAz/khqjvhgtjaXhL7QAkwZrexIf+6wpIeLNZSuc663DuTmNXb7ZrXf0GFoxiu1x3whlY6bKT0BVM/oAF5pc0sUNvXj53AK9RgIdq/mkPd4x1DX7QwyRadXIJLGc2HYaJd3ZuHqufuDMBDWKyws82doaCgpKSk3l/r3joiIePfdd4VCISr79+8nM8wGuXVvKpbcK4bczNDEbF4ZW+PL+XfriTrqIYuZ0F6x9W36xIH3sqP0djFTRLvDeE9couebomqfF3PnPOv1kwjc4u6Rom/pTslGKzoqd1NdQjTbRSOCo4IkJv8TumOhrFepvmKRnZSsdYJdJoRSZDzko9L1zvAKKt3+2XXHqcfukc3oDPGMV7ASpBdYW/ZbVK8f1JQfr4m7qDersPKs16yQUUEwRE4wR/5n1PHU6ZXWa3EwCiqDCRXNVxba7RsD6xUWloVSVFQUFBT0+uuvM11Smvm9vKX1Cv3wVQE9TqghmMcr40djOb+xgiTo5Wdwn1deu6a5LA6jllcynj8iHaSvcBKv9IUXEpcA6QAfM6ACr2A6KmN1PRU76LesMl48Riqc3IZOr/TB+PKcd2hJaHqlzZUadEPOExV8ft+mCYxXeAXNJAvJeIleLeWVbroXDBgLmy7b7NZ0KXIksxal2ycL03V6JeXxveRCGfItZC1k4sJhvcLCslBUKtXGjRvLysrottlZQq9QL4v8xkrsSEUuwzGDVyRXMzm/PzW2Sd+Am5Kb+cN/OFW+z9MQrxR8eVnUQuc9xCujlR1IHcgUYX0vyV10e+UFagQHzF/4FZWIqKQKeIWYwFivYEP5n1LHZ1KthlfEndTTiZpeQW4EVTScCcEKyRTFKPUE/EyvqJWqtKcPknruh2ewV8vyOWMej+fs7HzgwIG9LCwWxsGDBz08PPT3y6KfggLqivmSsFReoV5u/5Ot4JtZB4eejcX2itSjkPf4Jf4L9vSSszA5OSk8EDn8Z5uOly/N6RVuflPTBapvBUkPJ/nhn8nd+Kp9Xmii0ng2lF/aNqlS11sHdnqmIegjNSn+wVE9oVSKZSmP75sQSUcyaolp+MUteR+fG0qswKcwDXXbX61uc0loPB+GNYia+3Pes9V6H0Upkac/d3hCKEVWARVhymhFR867NoPx1NlM+ZbrQ8nUTRTsZINtCCpyzljpOmfIT61Q9kcVU/dRzoYiy8GG8ClDyRpHTOGXtOZ+cAa7QS6mLRzzeeX69ev/+q//um7duqtXrzqysFgYdnZ2q1ev/uUvfxkREUH/yS4fTO4Vzq9OYMGZhffc1dGPb5I1051xPT09xo/hzNsro2+5SByydBbpzQJmJaPvuHH/66xaMN1/9mwQtZC79OIzyUwRfO7Jm7EbOJ2HGwQ1Xb1Beb3BVJ+zWHwkvWYoqZLYZbxjaCC2dCCmBNkDovlAXBmC9UhmLSrDadTIAqgPp1ThU4RyiEFQ3YWP4AbpAB9LoSB36Y+kFsQM1CbvAUtRK5m6A486LIJtYQ1kNvhA0ssdyarTfHdSIRAPxpeTVzixe9gx5CtaD5vBjth57M9oefvyuw7m4+Pzpz/9qbPTiCuwLCzmp7Ky8je/+U1qqpmG8Rg/kyyPq5/UeDZ0fpjWKxOVfcItQToL8himfzC4Yd6dB8/TK6uuEgHoLKR/MJSxdf6c351SlBs01CaAG0Y/ukmt5PenpsuvTsy7V00Wc3hFrVb/4Q9/WMKrzywz4XK5jY2NdcbT1NQkEJi7GxVzgnzlpZfogdcWm3HbJMQv3lOXJc45av7cJ9ezYVqv6IHpz1i4LYQa7CRrnoOdzM8r6nGZmjOus3AfPk+8Qj1Y/BsryU16AAuWJcEcXiksLHzqKe0hb1mWCj6f7+3tbWNjc+3aNRfjcXR0xLKBgYEi0coc5UKlUv3qV78y+RApOpGnNpFzbar87pRoX6Syfo6+nHViZq+IocPfnBy/RA1YNz/m5xU9kH7yJQ5ZnD+cHvuRHl+OZakwh1fi4+M//vhjusGypCDVsLe3Dw0N1f9OuH44HI6fnx8co3+k9+XL448/XlMzPTL/4qEWyqa9cq8IVnupx+kxpw3EnF7h/tmW+x9nBJ/fN3ynsSyGV8bW+M7ZcQuLeTCHV+Li4livWAiRkZGkY126PV+USqWnp2dKiml6qbM0nnjiierqBY3fbjijb7poSgVRW5FDjx9qOGbzinB3GHaS94RxvUzOZDG8Qh09Y97NZFk8Vo5X6k3aMcaKRKFQnD17tqdn+n5mf39/YGBgUlKSu7u7XE6fI5eWlh47dszJyUl/bG1sbLx0ScdT9isAc3pl/EQcIxUU4c5Q+gNjMLNXlHP1JD8nJvcKOXpGvZvJsnisHK8cOHAgPn4+Q9c9OPD5/NOnT8MudPvu3T179jQ0UIMyIYxevjz9wOhDDz3E480xVrxAIMDaGButJMzpFXl8PYmJTJEFVdCfGYzZvDJumyRPMsHTqKbPVx46L77KDuRlKawcr6xbt+77779vaWmh2ywzgCpggomJ6fetUEeel5OTw+VyP/roIzJxeHj48ccfJ3U9jI2NYW16uoVfvpjTK2quGC5BHkAJ5tfUQL+c35w0NnabzSum6p/G5F6R+rOPm1oQKypfgVe2bNmykFemVzZaXpFIJHv37q2pqcERO3fu3Oeff06mh4eH79y5k9T1wHrFVMjCqianukOW+pXSWcu/WSuy5h7emMFsXjEVJveK5TA5LlePSnC6oB4Zp36ibuRTGCuAFeUVOzu7PXv2oEJPYrkfLa8cP348JITq8oHU7e3pTi/27dsXFBRE6gKBYDZzsF5ZDCRT77pT5fenFLmG3sBnvWJOJlVqVSdPntYsuZEvOhQ99qPv6Cfu/JccuY+c5/z2JP3r0yq/Ocl96Bz/RYfRj26OrfHFd5S45cmTG5Xt3IW/FWuBrCivODk5FRYWrl+//tq1a/RUFg20vPLcc89xOFTnE+C9997j8+nRh5555hkyeDvw8PBQq9XIbGJiYvATmQ1z25/1yiIhvpBKByOoxbBnw1ivLDaqwTFZeLXoYBT/NSdkk/jt8B67KPjcE1PE9pnS28WyqBpFdttE7YCqZ1Q1JKSTlZFx1FW9o8raAfwq5TG10jvFYodM0ZEYwZe3eE9epn7Lvz0JJ4n2RsiCK7Asvb1lzrL0yoYNG3788Uf4Q5Pvv/8eXmlpacHm1qxZs1IfgV0IWl5BbtfcTPUmdOvWrfBwqkO9ycnJzs7OP/7xjyKRCGpxd3e3sqLGjcjNzcWxbWhoCAgIyMnJoRZmvbJo4Lcwfi6FVsvvTslTm+gPZmceXpkclyvrhyYqeifKF7nUDiC80lu9x3LxykRJNxzAe9aOEslzV4V7wmWB5RPV/aa6tDUpVkA5stAqfGtkM9RWnros2hepyO8gl0aXKcvSK9CGi4tLwgwKCgrgFYCAuG7duge8OzKhUIhjMjg43fG1lldQiZiisZG+S4x0JDo6OkqDkRG6f9PNmzfj5969e5kHwFivLB73qeU3J3EuTH8wC0Z5RdXFFx2K5vzRhvN/raa7w1q8MnVpaOxbb83cy8K9ggxDfDGN0snvTgk3Bcoia5B20J8tJmrOuDymTrgjhPOH08hmxs8kqzrmeCzTMlmWXkF2kpiYSBSiE5yG29jYbN26VSaT0cs8SBCjnD17FnG/t7eXnjrDK0bh6emZkZHxxRdf0G3WK4sM1CJ2yKTV8qsTEg99nfAb7hXkKNy/nB37joryWl2mLx7KNg71ms6/W0t96PE/LNYriOyi47Gcf7MW/N1TFlCuFi1NAEEeIwurEnxzB1ZG+qIa1D3ivcWyMr0Campqdu/effjwYXqZBwNNoxAyMzNb71FeXo4p8/DK0NAQUkBkNlg5PemeV+rr6+m1309XVxc93zLEErxCkHoUMmoZPxk/qdJtAgO9oh4WQSpYD2maGaoztN+dkidS70tZplckrrlI4wSfuE8Ud5MpspGxeuvAVsdY0jQJwvreNtfE1mtxbW6JQ4lzvKs0Ud0v+Po2jpv4EjWmCz3V4lmxXgH5+fk//fSTq6srvdiKZqZRZoN4BXHzkjHs27fv5MmTpO7t7Y01EK/MhpMTPY7ecsRyvAJk0bXkRjEK8gy1UMcZtIFeEV9OH/3gBqkbAjQmC62S3imWehWp7n/HXj0uV9YOIBFRNo+gYuDNAPHVjNH3qM7nLc0rkwqlcGco96/n5Cnad7OoYeqnxoc3IdBJ2tMH1QY/CabIbec9fmnsJ79JyfRLzZbMSvYK2LNnz5YtW+jFVjRcLjc8PNzGxoaO67NDvFJSUnJkvhBnsF4xG4rCTuQZRC3whLKJGnpWk5HfWbe+YzenV3iPXZSFG/G9kNmoBqgrMJPSCeGWIGXL9GCCap5Y6lOC/RFfSUciYuCptJozDkfCQ5RXXrpkIV6BFAVf3uK/5Kjqoh+J1ETUOmhyrzTYhlTt9aIbhqEaEo6+5Tr6rhsUSE+yYFayV7y8vNatW4cKvdgDwEy7IImpuUdBQQGmzLwOhnni4+M1h9GVy+WYUltbS7d1QbxSVlZGr/1+yJNmyxRL8wpQdfIQ+IhaOP/vtCygXDNFkAZVIGVp/shej1fgBiyL9ZBF5kQtknF+c5K5sj9R3I3zZVInyJMauX+0me3S3Gxgf+SxdcJtIcP/frJit4cleAUHk/vQudnGv9HyyoRQOlbXo5JN5w0KgRg5jVIiV45TqaRKPiGs71WMjk+MzdoDZu4HZ8hwk0YxKVbw/nZF4pZHty2YFesVzLBmzZoHs8cwTbvMed/ezc2ttLQUlcjIyKioKFRUKtW2bduEQuGuXbtQn5pLB+x9ezODQD+23p9Wy69OwBaaffcStWD6bF5Rj0kprxjTZSQWoWtTj0hxHz5PN6YYP504j5Ht+a85ycKowXT577kN/9667c0rS+uVyQkV79GLUm/6gYKZaHqlJyCn63aGuHO4xT5mJKsOU/ojiji5DXLOWOPZUEzBzJ1e6WiOZNTWn6JfLtYC4on9v+slPVy6bQyy6Frun22X6mkCw1mZXikuLt6wYYOd3QM9EgOxS39/P92exStFRUVkLBaZTPbZZ5+h4uLiEhBARSIcQ83Oj7VgvWJ+kKNIbuYzL3XjLFsWXs0kLlALma5V5ueVSbVa6lcqccxCzJXcyFdktXF+baWZJI1+cEPsYHRXj4xXqPp7bmQPxZfSmDL2vQ/3L+eojxeNyXH5RFWfLKgCahz91AM7gCn0ZzNgvCJs7Cv86gqZiOOQ+fLxiTFJ6U9Och41wJ1sZIxf3NJ+PXkwnu6pjKlowStoTn50D92YAdbZdCFc2DB9OqgJtsv5N2vsPN22VJalV5CIbNq06eT9WFlZIRpCKvX19fv379+3bx89N8s9dHolJibG29sbiV10dPQrr7yCKYiqHA4HwnjhhRcEsw85zHplqZioHeC/co1EZBTB3z2VtXT/CBN1A/K4Oq2inLr2ZaxXhDtCmEsucIzgi1v8VXRPP2BSooDeFEX6nvpDsJaFVE6U3ndqoukVgByI+SJM4ZkuX8G3xsGRJzRQfa4cjhas9qLfcr+/aGZmWjBeabkaU31wOj/L//TCYHx5X2hB/O83F3xxCWkKgj5SmaS/7Mp+0xrJymzXwbCesk3TDxNhKWHT9MkfKN96XTas+9c0qVJzfnMSfwB021JZll7BCfWVGTDv21+8eHHz5s1CoTneY1pezPRKcnLy0aNHSR3HbceOHcPDw08//XRYWJifn99f//pX8hHAnEeOHGlqmn5ahvXKEjIpV4rPpyLEMJFRuDlI2aBvDGOjvCKPreM9fUXzbrzgMw/EZbpx964ir4Pz79bYDbo9ZRr16H23KCYnVONnkqW3i+n2FFpeMQnYkKqLryjohMaoXlIORo196w31cv9owxyfWcvvrDl/spE4ZdPrmgHjldZrcfd55ZPzgwkVSFNkQ4L+iKK8j891+2bJOWNKiXwko7b6wJ3iHxzpWe+ncPWVzlvTQzhzchskPXR3ShMiqVIsK/j7RdKcidSnhPvohUmp9i1SS2NZekUnpH8wnHr/9NNP7BhfOpnpFfxeqqrof3KkgAUFBYine/ZQSXpkZOSZM2fIR2Dbtm1QiGY36axXlhxl8whOwDWjJJrymNpJmY64M9Mriuy20Q9u6Ow4Wbg1GNGZbiBwK5TcP9tOVE+fVovtMkY/cacbU8AfqmHtkznhpkCtp9cW4hWc2qs54xPF3bKgCvGlNGRUox/f5D1OjRRpYIFpRt91w4LQD5IYZQcXGQAqmD5b31yMV8Zquws+pweyg3HTnzus4IsaztA9t8Iutcf82pzjmTRFMylhwILIb5jLXCqpouaID6l3eKQOp1ZDORU77juwDOqRcaR30oBlMCLAivLK/v3716xZg4BIT2K5n5le+eKLL0hPLd3d3Rs3bkQF+QryEvwDr127ViSiLhwDuOfdd9/Nzc0lTQLrFUsAvyl5evPoW673BdA/2oyt95feKaa6y713R0RnviK+msF78rJmXkLA4hIXuiM4IPUvQz5EN6YQfOU1fm66Cz6sXLg7jG5gfr9SqXeJ1LMQSQOzAwQDvUIpZGR8oqhLFliOzAx+Gn3TxaD8g5Q/nOa/6CD45o5oX6TYPhNbnCjpxgq1doZBuC0YecDM+xaK0fGmC+GpT+wfTqP+Hjq90hH9RS0DjefDhpKpb1H0nf1AbKl0cLTrToaguqvlakzz5ShpPx9ZSLe/dg7EL2vDgtH/urYnMLc3OL/VKT591ZH268n4CNIiTx73hRd2+2RNzX4f0DPvb1fGvvOe+cuyQFaOV7Zu3fr9999fuGCyK7Mrj5le6ejosLOzCw8Pd3FxYcaRDAkJCQwM1OxdTalU7t69m27cg/WK5YBwqUhvoV7M1gqvU/f2x370RXohi6hGU8srqm4+JiryO+j2PRQZLWPr/EkURkQe+8GHeR9zUq5UtowgcMtCKtU8saqLL4+rRxCHAMgMUt9S8ZV0VCYq++AnMpFhpleoq1idPCRPUp+S8TPJYxsD+AYrhPfoxdEPb8B547ZJ0ltFVM/zdYPqUcls/pgNzE91yPb/Tku9ijQ7rlcrVeTaFH6SKcpxmbC+VyWn/4kUAvGEUCqo6sQ8aCJZQQKEpmxER88rWJa6bnZ/IW9Hdrin9IUVolJ98I6wqR/Tp5aggEhwbLl/shUdjTH2qe6lYuV4Zfv27TjFphssuiAmkEh0P6evh8bGRoiHbtyDy+VqWWrFsOy8wqDqGRU7Zo2+Sz9nNbPMvL+CmTUveTEoCjrFDpkSjwIENc1QO1HdL/Uo1C6ehZNi+rwEK0SehAr1IJl7gVaI57/sKPw5HEFcuD1E8Ik776nLVPeXM/ZTu/xfK94zdkiSRIejJdfz5EmNyuYRk99mkEXV8J64xFt1FQ421kwLhFfQ3O2bJWzozX7rFK+wWTZE/5rkCQ3UjaKHzy+vATFXjleuXLmi5+ElFqBWqx0cHCoqjBs+vb6+3t/ff+ZSubm5N2/epBsri+XrFQY1XyKPqRs/Hjf6tivzXDLKTK8gTHP/es6Eo0sJvr2DrU/KJgRf3Joo60EGQH8wBe/Zq8zO6C6/tuI9dxW5l+hIjORmvjylSdnG0XxAYFHBbktcc7n/dZa/yh5Zl+GvkS4cUXO/uHNYwReJWgZUfQKJYxYcjDRFfDVDz2PQlsnK8YqpRt5e2eTn51+9epUZwssQ/Pz8IiIi6MY9hoeHL126xNzzX2GsAK9ogqA8UdUn8SxA1J7pFdXgGKYrMkzWLQU2IfUpkQWUK7LbJG55WlvU9Ar3kfPUXfRNgdRVrDvFiqw2xPHJCZMZbt6oRTKpb6ngUw/kSaMf3JA450CQiz2w46RKTf2abuQz25XeKtJ6xG65sHK8wmIIsC8kcfny5aysrO7u7j7j6erqSktLu3DhQlJSEr3SFccK8wpBz3PGgk/chT9TA7sRpN4lCG2mLRPl9BNQ/Jccx8+nqDp4Oh9aszSovMEpW/B3T2ogmT+cFnx5S2yXIY+vp67CLbifLhgUqZg8qVHsmIUkj7ql9G/Wox/fxCbMmSctBqxXHjiglpqamlu3bsENZ43n4sWL3t7ezFBgK5IHyiuqnlGcGnP/bMsESlU39S6IaQtz3r0Y76+YARyciaIuCGDsO2/eM3bUPaGp63VoivZHjp9NlrjkSAPK5IkNiqIuJDcTlX0TNf3IP1DHFMgDCRyyt/FzKaIDUWM/+PBX2ZPXj3hPXRZ8cwcuocaIXA6uNQTWKyws2jw4XlENjI395KfqHeX89iQZGUUnCJHy9GY1R3s4YTApnTBq1Kll6hUtIABl47A8tg6mER2LFW4NFnx9e/QdNyiH+x9nkNlwfjc1UCZ+/uE0nM17+sroW66Cr7yEW4JER2PE9pnymFpl3eBy6ffeWFivsLBo84B4RT0sGv3oJnkfEOfdCHlkuiaTSpX4fCoSDswmcc2V3rnv5XkEVupU/Ua+1kv1elgZXmHRjwV5paOjIzo6enxcxznRPKioqEhLm+4sYbFRKpUGPjjAvCZiKoRCYXc3PbzdnCx86/N7sHi27S7VY8p1dVRntLPxIHhFzRXz33CGMEhTFlCOM+uZp8+y4ArhpkC6Af386Kusp3uLoXrO/556V3xSreY9d5VMnBPWKw8CFuSVo0eP5ubmDg4O0u2FMTk5uXXrVrqxyCCyf/HFF21tOvrD0CI/P/+HH36gGybCw8ODrs1FbW0t6bF43vj4+Jw8eZJuGExra+tbb71FNzQYGRnBdD3v07i5ueXkTL/1rRPSGTO4c+dOSsr0G+D6aW5u1rPmFe8VtUAKqWgmGdSn/2Yti9YecUfZypnQ6FySdDmMClzCf9mRuRvP+d0pAztvZ73yIGBBXtm/fz+pIEyPjdFXbKVSqUw2698rAhPzKZmTvM2E7AEnwjt27EAdE1UqFfNaOKIYmuT0GR9xOHSPb5iOhGPep/MXLlwwxCuAdJdiKhD+0tOpd5sNZNu2bXRtXvT398/DK2DDhg107X7wS9fjFT6fr+e3T/D3p9/oFggERr3yeeUK3ef5TFa8V8a+9RYdmu5EkiDcHCT4+jbd0ECR3iLxKICElHWD47ZJwl1Ufy3ylCbe0/QBVA0JsWYD7zmzXnkQsBSv1NfX//3vf6+qqoqKisJJfUFBQXh4eENDw/vvv+/u7h4SErJu3Tqs59ixY4gj2dnZCAoBAQGFhYXnz5/v6+tramr68MMPPT09IyIiYmJicN5aWlq6fv166GTNmjVeXl55eXlnz57FuS32hHTii20FBwc3NjZev34dSdIbb7yRlZWFrZPB240FXsEOFxcXl5dTvVnAMUVFRUFBQcRzGRkZ2GfsA+rwilwux24jckVGRt64cQMfYU5YDTuAXcV5N86mu7u7sZ+xsbHYZxyHixcvYrbAwEAe774HEDGduBAmRrYXGhoKU4rFYuwPDg6zUXyamJiIo6oV37EtfF/MRjpVw9fHUcUBHxoawm8ExoqOjiZKRhO/F+wPvIIIbmtrC6ljCo4ePu3t7cWcOOyYuaenBxX8FmB3NLFd7MnXX39Nbe8e+LL4diUlJd9//z1kgDmxODbX2dmJX9zNmzexGxUVFaiUlZXh61+6dAm7hPVgh/ErQwXfFOuprKx88cUXsQkcUnwR7A9yI8yMfcDi+CJYOb4UZsBhwVHFRPz94PhgWRcXF9I32kxWvFeoO8Yz3sbADIrs+86NMI9wR4gsiH4lVhZQLvjMg3QLRvX5+N51auj7O8XjJ+J4j9MdMjIgoVHrepuP9cqDgAXlKz///DN+fvXVV6RJIhF0QpqI166urklJSTAKQjbSEYQJBE17e3uEJMzAdOLCrIHEUMxALqZv3769q6sLRiGX2r799lsyGCKmI+gwAfeTTz4hFaNAHIdUUDl06BAioJWVFQRw+/Zt7CH209raGh8dOHAAP+EVxGgyM+YkCQS+l5ubGyrvvfceYiLSgk2bNqGJPcTuofLll1/i/xRR8rvvvkOT4fDhw6SSmpoKN+CLkCkImuRlRvK9Nm/eTO5kfPPNN/jJgKNKOi1GUA4LC0OchYYhaRwi0iGYSCRCSgG3kU6OEeJJvnL69GlEcFTIYccxh0F9fX1ha6wBU+AMWHDXrl0k9Vy9ejV+MuCXiIOAyk8//YQv5eDgQMas3Lt3L36+/fbbODJwDA4LTikwBUcDisLeYg9xGJHEXL16lfxamd87togDjgqOGDYK/WANWOHw8DCsg8Ny6tQpHB/sNulPE76Z7VLYA3Lffk6oDh930P31AlWfAGsgj43xV9nLAstVw0IU0Z4I4U5K85rARkxCownrlQcBy/UKiUTkWhYB+QeMgsBNwsGJEyfwz5+QkIBEQSgUMnMyIUzLK4hxSALgFRJWEKBxmozKli1b+Hz+wr2CmIuKs7Mzvi8yAyRDyJBwgo9g5+c3PTD4Bx98gC+CAIc6oie+DiqQENltck8ICQHzLd555x38ZKInYi6pEIirAAIuzu6RGJE1wCuIs6j8+OOP+Im0j5pJYz0EROpr166hgiMJc2AlMCKaOGLMwGjYAWQSly9fRh2RmngF+QrjlfHxcea2DQ7pK6+8grQA4iS9IJPpWtvFQYAmUcHewis4h0DOhKWQxGAijs/UXNSgL8QrSDggrcxManRC7AwMeuTIEZKKkTUjaYOZiFfw54EsilwexOHCagFyQZgGv/RPP/2UjM0DaUHGqMyE9QpAssL9o408YfrhY0VBJ/c/zpB+wDj/7zTpBAzwn7ef2XPlRGnPTNkA1isPAhZ0HQyxr62tDckH/tvJ2TciF4IaM5YUIlpvby9iB+mwHaeiCH8BAQHHjh3Lz89HBCGnwAjomAFx7dVXX8V5N7yCkIQge/HiRZzGIl7HxMRgtpqaGh8fn7Kyshs3bqCJxAiBCbvKXK83CniFdGqCnUG2Qb4vdhVhEZtDFEYT3w75BxIUSIWkKfAKyQMQCsnlfub+B/EB5icZG0lTED0Z7xIgV1KBNRH04SesATFRyytMWJ+Zr5DtIrcICgqCV0hqheSA5ElwMCo4jAcPHkQToZl4BQcTvx0YhfiP7BVSlpaWFuwqufqHRA2GIJfpZu429hYVfDt4xc7OjuQr5HfNOJ7xCiSENZBvRI4tUhwkZNgxpEdIxfAR4xWAr0lOPmBHkp5iZ8iqcGoC+6KCX7TmMGWawCv486AbKwVjvaIeGafm75ueX3QgSuJMZ3iUYKYeHoNRNAdimZxQIVORBVdQI3r5Ub9TLVivPAiYwyv4N37ttdfohgHIpqAbGpAIhTNiErYA4iDqZLomYrEYExFkEY/gFcQIcoqqBaI2M8QIYplcLif3EuYBTrdhMpxBE+chQUFcQ9aC+I64iawFMyCIg9OnT0M8CKxwGLyCCAgpwnAIjoWFhQjriIBYAySEVAyWHR6mhkXCbFgzJKo5Xj2ADDo6qFNFRNXQ0FD8dHd3r62tRdhF3MQXP378OFaFRA37gN1DVkeyNwL2B2kipsMraCItgCDJU8vQZFpaGuxODh25VYOVIFKPjo5iowjT+ILEZ9AJskbkBDiGWBwRHzPjtwCDRkVF4XthK8QcBBxn7C1CPNJHrBO/U3wRHIf29nZsFweHhHVPT09y/wbgkJIUh9wtw/7ghAAHDeuJj4/HdjGDk5MTubaJA4UpqODgYz8xP44bZsAOY2ZySfDSpUvMH5IWf/rTn0g2tpKYx3Uw/suOylb6wRZFUZdgtRdzV2bsex+salKuxEQmcZlUqcfW+SsbhqinxV50YKZrQnklfKXlgixamMMriN2//OUvyWmjmUFYQWBFlKHbs4D4Dq9UGNnR78JhroPNCUk7ZoIAbfhzxjOBV8h1sAcNnHaQPHUm+DP4wx/+QPy0koAD4BVlh45YPxuQimhPhMQlR+yYJb6Upvl2i6qLL76SLrbLUDZPP/sgj6vH/KhA2PAKmagFb9VVeTw7nOsKxxxeAQcOHPj000/JeSILA7ldr/WI10yampqQf2jmGZrgZLyra/oNA6NAkgEtmepd1GUEvrjOnBjnQM8//7yjo+6RyZc7/FX2Um/qWqJRIPmga3Mh9SuVXKduek1U9ws3BU4UdWl18K7qGeX82kpnHsOykjCTV2CUL7/88tlnn0XqgPjYyMJiYdTW1rq7u//1r3/dtWsX/Ve74kDQ57/sOPMJY1OhFkjHT8TJQiqxIeHmIKknNQCiJuNW8YLV1Gi7LCsbM3kFqNXqyMjIjz/++NFHH32IhcXCePzxx1evXm3Ovn/Mj1ooo7rg3RCweGrRA1Ilzu9Oab69z7JSMZ9XWFhYlhzVwBhv1VX+K9cQ5VWdPPWwaLGLql8gT28e+8EHUpGnUc+ksKx4WK+wsDxYqMekEtdc3rN2HGbo30Uu3D/Zio7FsrdVHhxYr7CwPKBMihVqnljNXeQipHvtY3lwYL3CwsLCwmJKWK+wsLCwsJgS1issLCwsLKaE9QoLCwsLiylhvcLCwsLCYkpYr7CwsLCwmBLWKywsLCwspoT1CgsLCwuLKWG9wsLCwsJiSlivsLCwsLCYEtYrLCwsLCymhPUKCwsLC4spYb3CwsLCwmI67t79/wHD9H7A9SottQAAAABJRU5ErkJggg==)\n",
        "\n",
        "제안하는 알고리즘의 목표는 target domain의 label에 대한 정보가 없더라도 target risk가 낮도록 classifier η 를 만드는 것이다.\n",
        "\n",
        "모델은 크게 feature extractor(초록), label predictor(파랑), domain classifier(빨강)로 구성.\n",
        "\n",
        "일반적으로는 loss를 줄이는 쪽으로 학습하지만 해당모델은 Gradient Reversal layer를 domain classifier 앞에 배치하여 도메인 라벨을 구분을 어렵게하여 도메인간의 적응을 꾀함\n",
        "\n",
        "작성자의 코드에서는 feature extractor를 베이스라인의 Unet()을 이용하였으며\n",
        "label predictor 기존 Unet의 마지막 레이어인 conv_last를 가져왔고,domain classifier 또한 Linear Layer를 통해서 간단히 구현함\n",
        "\n",
        "주의사항 해당코드는 딥린이의 생각으로 구현한 코드로 올바른 DANN모델이 아닐 수 있음"
      ],
      "metadata": {
        "id": "O4kkmYvDNbRL"
      }
    },
    {
      "cell_type": "markdown",
      "source": [
        "#구글 드라이브 마운트"
      ],
      "metadata": {
        "id": "s8oZ1ms--_oJ"
      }
    },
    {
      "cell_type": "code",
      "source": [
        "from google.colab import drive\n",
        "drive.mount('/content/drive')"
      ],
      "metadata": {
        "id": "KBOTAilk-5G-",
        "colab": {
          "base_uri": "https://localhost:8080/"
        },
        "outputId": "d76a7b83-a3a0-4545-d9c6-437e6a53512e"
      },
      "execution_count": null,
      "outputs": [
        {
          "output_type": "stream",
          "name": "stdout",
          "text": [
            "Mounted at /content/drive\n"
          ]
        }
      ]
    },
    {
      "cell_type": "markdown",
      "source": [
        "#import"
      ],
      "metadata": {
        "id": "jluUheS2_HUt"
      }
    },
    {
      "cell_type": "code",
      "source": [
        "import os\n",
        "import cv2\n",
        "from PIL import Image\n",
        "import pandas as pd\n",
        "import numpy as np\n",
        "\n",
        "import torch\n",
        "import torch.nn as nn\n",
        "import torch.nn.functional as F\n",
        "from torch.autograd import Function\n",
        "import torch.optim as optim\n",
        "from torch.nn import init\n",
        "from torch.utils.data import Dataset, DataLoader,ConcatDataset\n",
        "from torchvision import transforms\n",
        "from torch.optim.lr_scheduler import LinearLR\n",
        "\n",
        "from tqdm.notebook import tqdm\n",
        "import albumentations as A\n",
        "from albumentations.pytorch import ToTensorV2\n",
        "\n",
        "device = torch.device('cuda' if torch.cuda.is_available() else 'cpu')"
      ],
      "metadata": {
        "id": "sPjet36_-_Ea"
      },
      "execution_count": null,
      "outputs": []
    },
    {
      "cell_type": "markdown",
      "source": [
        "#Utils"
      ],
      "metadata": {
        "id": "J_TepeYN_G9S"
      }
    },
    {
      "cell_type": "code",
      "source": [
        "# RLE 인코딩 함수\n",
        "def rle_encode(mask):\n",
        "    pixels = mask.flatten()\n",
        "    pixels = np.concatenate([[0], pixels, [0]])\n",
        "    runs = np.where(pixels[1:] != pixels[:-1])[0] + 1\n",
        "    runs[1::2] -= runs[::2]\n",
        "    return ' '.join(str(x) for x in runs)"
      ],
      "metadata": {
        "id": "5Q8u-ME1-2pF"
      },
      "execution_count": null,
      "outputs": []
    },
    {
      "cell_type": "markdown",
      "source": [
        "#Csutom Dataset"
      ],
      "metadata": {
        "id": "Zuq2x3w2_RHb"
      }
    },
    {
      "cell_type": "code",
      "source": [
        "class CustomDataset(Dataset):\n",
        "    def __init__(self, csv_file, transform=None, infer=False, trg= False):\n",
        "        self.data = pd.read_csv(csv_file)\n",
        "        self.transform = transform\n",
        "        self.infer = infer\n",
        "        self.trg = trg\n",
        "\n",
        "    def __len__(self):\n",
        "        return len(self.data)\n",
        "\n",
        "    def __getitem__(self, idx):\n",
        "      if self.trg:\n",
        "        img_path = self.data.iloc[idx, 1]\n",
        "        path_len = len(img_path)\n",
        "        image = cv2.imread('/content/drive/MyDrive/dacon/san'+img_path[1:path_len])\n",
        "        image = cv2.cvtColor(image, cv2.COLOR_BGR2RGB)\n",
        "        if image is None:\n",
        "            raise ValueError(f\"Image not loaded from path: {img_path}\")\n",
        "\n",
        "        if self.infer:\n",
        "            if self.transform:\n",
        "                image = self.transform(image=image)['image']\n",
        "            return image\n",
        "        else :\n",
        "            if self.transform:\n",
        "                image = self.transform(image=image)['image']\n",
        "            return image\n",
        "      else :\n",
        "        img_path = self.data.iloc[idx, 1]\n",
        "        path_len = len(img_path)\n",
        "        image = cv2.imread('/content/drive/MyDrive/dacon/san'+img_path[1:path_len])\n",
        "        image = cv2.cvtColor(image, cv2.COLOR_BGR2RGB)\n",
        "        if image is None:\n",
        "            raise ValueError(f\"Image not loaded from path: {img_path}\")\n",
        "\n",
        "\n",
        "        if self.infer:\n",
        "            if self.transform:\n",
        "                image = self.transform(image=image)['image']\n",
        "            return image\n",
        "\n",
        "        mask_path = self.data.iloc[idx, 2]\n",
        "        mask_path_len = len(mask_path)\n",
        "        mask = cv2.imread('/content/drive/MyDrive/dacon/san'+ mask_path[1:mask_path_len], cv2.IMREAD_GRAYSCALE)\n",
        "        mask[mask == 255] = 12 #배경을 픽셀값 12로 간주\n",
        "\n",
        "        if self.transform:\n",
        "            augmented = self.transform(image=image, mask=mask)\n",
        "            image = augmented['image']\n",
        "            mask = augmented['mask']\n",
        "\n",
        "        return image, mask"
      ],
      "metadata": {
        "id": "AY8pA87__OSc"
      },
      "execution_count": null,
      "outputs": []
    },
    {
      "cell_type": "markdown",
      "source": [
        "#Data Loader"
      ],
      "metadata": {
        "id": "1BOjqWJk_VQh"
      }
    },
    {
      "cell_type": "code",
      "source": [
        "transform = A.Compose(\n",
        "    [\n",
        "        A.Resize(224, 224),\n",
        "        A.Normalize(),\n",
        "        ToTensorV2()\n",
        "    ]\n",
        ")\n",
        "\n",
        "train_dataset = CustomDataset(csv_file='/content/drive/MyDrive/dacon/san/train_source.csv', transform=transform)\n",
        "train_target_dataset = CustomDataset(csv_file='/content/drive/MyDrive/dacon/san/train_target.csv', transform=transform,trg=True)\n",
        "val_dataset = CustomDataset(csv_file='/content/drive/MyDrive/dacon/san/val_source.csv', transform=transform)\n",
        "combined_dataset = ConcatDataset([train_dataset, val_dataset])\n",
        "train_source_dataloader = DataLoader(combined_dataset, batch_size=16, shuffle=True)\n",
        "train_target_dataloader = DataLoader(train_target_dataset, batch_size=16, shuffle=True)"
      ],
      "metadata": {
        "id": "YuOp9VyZ_QD_"
      },
      "execution_count": null,
      "outputs": []
    },
    {
      "cell_type": "markdown",
      "source": [
        "#Define Model"
      ],
      "metadata": {
        "id": "Qd2nZnQ5_3Ez"
      }
    },
    {
      "cell_type": "markdown",
      "source": [
        "##Unet"
      ],
      "metadata": {
        "id": "y8C8hrX9MeGq"
      }
    },
    {
      "cell_type": "code",
      "source": [
        "# U-Net의 기본 구성 요소인 Double Convolution Block을 정의합니다.\n",
        "def double_conv(in_channels, out_channels):\n",
        "    return nn.Sequential(\n",
        "        nn.Conv2d(in_channels, out_channels, 3, padding=1),\n",
        "        nn.ReLU(inplace=True),\n",
        "        nn.Conv2d(out_channels, out_channels, 3, padding=1),\n",
        "        nn.ReLU(inplace=True)\n",
        "    )\n",
        "\n",
        "# 간단한 U-Net 모델 정의\n",
        "class UNet(nn.Module):\n",
        "    def __init__(self):\n",
        "        super(UNet, self).__init__()\n",
        "        self.dconv_down1 = double_conv(3, 64)\n",
        "        self.dconv_down2 = double_conv(64, 128)\n",
        "        self.dconv_down3 = double_conv(128, 256)\n",
        "        self.dconv_down4 = double_conv(256, 512)\n",
        "\n",
        "        self.maxpool = nn.MaxPool2d(2)\n",
        "        self.upsample = nn.Upsample(scale_factor=2, mode='bilinear', align_corners=True)\n",
        "\n",
        "        self.dconv_up3 = double_conv(256 + 512, 256)\n",
        "        self.dconv_up2 = double_conv(128 + 256, 128)\n",
        "        self.dconv_up1 = double_conv(128 + 64, 64)\n",
        "\n",
        "    def forward(self, x):\n",
        "        conv1 = self.dconv_down1(x)\n",
        "        x = self.maxpool(conv1)\n",
        "\n",
        "        conv2 = self.dconv_down2(x)\n",
        "        x = self.maxpool(conv2)\n",
        "\n",
        "        conv3 = self.dconv_down3(x)\n",
        "        x = self.maxpool(conv3)\n",
        "\n",
        "        x = self.dconv_down4(x)\n",
        "\n",
        "        x = self.upsample(x)\n",
        "        x = torch.cat([x, conv3], dim=1)\n",
        "\n",
        "        x = self.dconv_up3(x)\n",
        "        x = self.upsample(x)\n",
        "        x = torch.cat([x, conv2], dim=1)\n",
        "\n",
        "        x = self.dconv_up2(x)\n",
        "        x = self.upsample(x)\n",
        "        x = torch.cat([x, conv1], dim=1)\n",
        "\n",
        "        x = self.dconv_up1(x)\n",
        "\n",
        "        return x"
      ],
      "metadata": {
        "id": "NInsFiu9-m9_"
      },
      "execution_count": null,
      "outputs": []
    },
    {
      "cell_type": "markdown",
      "source": [
        "## GradReverse"
      ],
      "metadata": {
        "id": "8ihpaMWEMjUR"
      }
    },
    {
      "cell_type": "markdown",
      "source": [],
      "metadata": {
        "id": "BWBhG9wQPrNR"
      }
    },
    {
      "cell_type": "code",
      "source": [
        "class GradReverse(torch.autograd.Function):\n",
        "    def forward(self, x):\n",
        "        return x.view_as(x)\n",
        "\n",
        "    def backward(self, grad_output): # 역전파 시에 gradient에 음수를 취함\n",
        "        return (grad_output * -1)"
      ],
      "metadata": {
        "id": "beK2fr7DMpHk"
      },
      "execution_count": null,
      "outputs": []
    },
    {
      "cell_type": "markdown",
      "source": [
        "##domain_classifier&label_classifier"
      ],
      "metadata": {
        "id": "cWx8QILHMqsr"
      }
    },
    {
      "cell_type": "code",
      "source": [
        "class domain_classifier(nn.Module):\n",
        "    def __init__(self):\n",
        "        super(domain_classifier, self).__init__()\n",
        "        self.fc1 = nn.Linear(320, 10)\n",
        "        self.fc2 = nn.Linear(10, 1) # mnist = 0, svhn = 1 회귀 가정\n",
        "\n",
        "    def forward(self, x):\n",
        "        x = GradReverse.apply(x) # gradient reverse\n",
        "        x = F.leaky_relu(self.fc1(x))\n",
        "        x = self.fc2(x)\n",
        "        return torch.sigmoid(x)\n",
        "\n",
        "class label_classifier(nn.Module):\n",
        "    def __init__(self):\n",
        "        super(label_classifier, self).__init__()\n",
        "        self.conv_last = nn.Conv2d(320, 13, 1) # 12개 class + 1 background\n",
        "\n",
        "    def forward(self, x):\n",
        "        x = self.conv_last(x)\n",
        "        return x"
      ],
      "metadata": {
        "id": "K_kJaOwSMqOd"
      },
      "execution_count": null,
      "outputs": []
    },
    {
      "cell_type": "markdown",
      "source": [
        "##DANN_UNET"
      ],
      "metadata": {
        "id": "fi6oxIi0Mwc6"
      }
    },
    {
      "cell_type": "code",
      "source": [
        "class DANN_Unet(nn.Module):\n",
        "    def __init__(self, CNN):\n",
        "        super(DANN_Unet, self).__init__()\n",
        "\n",
        "        self.UNet = UNet() # CNN 구조 모델 받아오기\n",
        "\n",
        "        self.domain_classifier = domain_classifier() # 도메인 분류 layer\n",
        "\n",
        "        self.label_classifier = label_classifier() # 숫자 0 ~ 9 클래스 분류 layer\n",
        "\n",
        "    def forward(self, img):\n",
        "        UNet_output = self.UNet(img) # (batch, 100)\n",
        "        pooled_output = torch.mean(UNet_output, dim=[2, 3]) # (batch, 64)\n",
        "\n",
        "        domain_logits =  self.domain_classifier(pooled_output) # (batch, 1)\n",
        "\n",
        "        label_logits = self.label_classifier(UNet_output) # (batch, 13, H, W)\n",
        "\n",
        "        return domain_logits, label_logits"
      ],
      "metadata": {
        "id": "yJf8QgI6Mvp7"
      },
      "execution_count": null,
      "outputs": []
    },
    {
      "cell_type": "markdown",
      "source": [
        "#LOSS"
      ],
      "metadata": {
        "id": "dfgoQveFNl5j"
      }
    },
    {
      "cell_type": "code",
      "source": [
        "class DANN_Loss(nn.Module):\n",
        "    def __init__(self):\n",
        "        super(DANN_Loss, self).__init__()\n",
        "\n",
        "        # 0~9 class 분류용\n",
        "        self.CE = nn.CrossEntropyLoss()\n",
        "        self.BCE = nn.BCELoss() # 도메인 분류용\n",
        "\n",
        "    # result : DANN_CNN에서 반환된 값\n",
        "    # label : 숫자 0 ~ 9에 대한 라벨\n",
        "    # domain_num : 0(mnist) or 1(svhn)\n",
        "    def forward(self, result, label, domain_num, alpha = 1):\n",
        "        domain_logits, label_logits = result # DANN_CNN의 결과\n",
        "\n",
        "        batch_size = domain_logits.shape[0]\n",
        "        domain_target = torch.FloatTensor([domain_num] * batch_size).unsqueeze(1).to(device)\n",
        "        domain_loss = self.BCE(domain_logits, domain_target) # domain 분류 loss\n",
        "        label_loss = self.CE(label_logits, label) # class 분류 loss\n",
        "\n",
        "\n",
        "        return label_loss + (alpha*domain_loss)"
      ],
      "metadata": {
        "id": "q9x7UAlZNlZs"
      },
      "execution_count": null,
      "outputs": []
    },
    {
      "cell_type": "code",
      "source": [
        "class DANN_target_Loss(nn.Module):\n",
        "    def __init__(self):\n",
        "        super(DANN_target_Loss, self).__init__()\n",
        "        self.BCE = nn.BCELoss() # 도메인 분류용\n",
        "\n",
        "    # result : DANN_CNN에서 반환된 값\n",
        "    # label : 숫자 0 ~ 9에 대한 라벨\n",
        "    # domain_num : 0(mnist) or 1(svhn)\n",
        "    def forward(self, result, domain_num, alpha = 1):\n",
        "        domain_logits, _ = result # DANN_CNN의 결과\n",
        "        batch_size = domain_logits.shape[0]\n",
        "        domain_target = torch.FloatTensor([domain_num] * batch_size).unsqueeze(1).to(device)\n",
        "        domain_loss = self.BCE(domain_logits, domain_target) # domain 분류 loss\n",
        "        domain_loss\n",
        "\n",
        "        return domain_loss"
      ],
      "metadata": {
        "id": "Oap4clB6vRB_"
      },
      "execution_count": null,
      "outputs": []
    },
    {
      "cell_type": "markdown",
      "source": [
        "#Model Train"
      ],
      "metadata": {
        "id": "SIXnNaAs_8ih"
      }
    },
    {
      "cell_type": "code",
      "source": [
        "torch.cuda.empty_cache()\n",
        "import gc\n",
        "gc.collect()"
      ],
      "metadata": {
        "colab": {
          "base_uri": "https://localhost:8080/"
        },
        "id": "XOWwMdVwylpa",
        "outputId": "a018bab0-815a-495b-9dfa-08f532664757"
      },
      "execution_count": null,
      "outputs": [
        {
          "output_type": "execute_result",
          "data": {
            "text/plain": [
              "66"
            ]
          },
          "metadata": {},
          "execution_count": 24
        }
      ]
    },
    {
      "cell_type": "code",
      "source": [
        "device = torch.device('cuda:0') if torch.cuda.is_available() else torch.device('cpu')\n",
        "best_loss = 1\n",
        "patience = 5  # 성능 향상이 없을 때 얼마나 기다릴 것인지 결정하는 변수\n",
        "\n",
        "model = DANN_Unet().to(device)\n",
        "\n",
        "loss_fn = DANN_Loss().to(device)\n",
        "loss_fn_tgt = DANN_target_Loss().to(device)\n",
        "train_source_dataloader = DataLoader(combined_dataset, batch_size=8, shuffle=True)\n",
        "train_target_dataloader = DataLoader(train_target_dataset, batch_size=8, shuffle=True)\n",
        "epochs = 100\n",
        "model.train()\n",
        "\n",
        "optimizer = torch.optim.AdamW(model.parameters(), lr=1e-3, weight_decay=0.01)\n",
        "scheduler = LinearLR(optimizer, start_factor=1.0, end_factor=0.0, total_iters=epochs * len(train_source_dataloader))\n",
        "\n",
        "alpha = 0.5\n",
        "checkpoint = 1\n",
        "for i in range(1, epochs + 1):\n",
        "    total_loss = 0\n",
        "    src_loss = 0\n",
        "    tgt_loss = 0\n",
        "    print(f'epoch : {i}')\n",
        "\n",
        "    progress_bar = tqdm(range(len(train_source_dataloader)))\n",
        "    for step in progress_bar:\n",
        "        # mnist, svhn에서 1 batch씩 가져오기\n",
        "        # 각 batch 내 데이터 : 0번은 이미지 픽셀 값, 1번은 0 ~ 9 class 라벨 값\n",
        "        source_images, source_mask = next(iter(train_source_dataloader))\n",
        "\n",
        "        source_images = source_images.to(device)\n",
        "        source_mask = source_mask.long().to(device)\n",
        "        _, source_result = model(source_images)\n",
        "\n",
        "        loss = loss_fn(source_result, source_mask, 0, alpha=0.5)\n",
        "        src_loss += loss.item()\n",
        "        total_loss += loss.item()\n",
        "        optimizer.zero_grad()\n",
        "        loss.backward()\n",
        "        optimizer.step()\n",
        "        scheduler.step()\n",
        "        progress_bar.set_description(f'Epoch {i} source: {src_loss/(step+1):.4f}')\n",
        "\n",
        "    progress_bar = tqdm(range(len(train_target_dataloader)))\n",
        "    for step in progress_bar:\n",
        "        target_images = next(iter(train_target_dataloader))\n",
        "\n",
        "        target_images = target_images.to(device)\n",
        "        target_result = model(target_images.to(device))\n",
        "\n",
        "        target_loss = loss_fn_tgt(target_result, 1, alpha = 0.5)\n",
        "\n",
        "        loss = target_loss\n",
        "        tgt_loss += loss.item()\n",
        "        total_loss += loss.item()\n",
        "        optimizer.zero_grad()\n",
        "        loss.backward()\n",
        "        optimizer.step()\n",
        "        scheduler.step()\n",
        "        progress_bar.set_description(f'Epoch {i} Target Loss: {tgt_loss/(step+1):.4f}')\n",
        "\n",
        "    if total_loss / len(train_source_dataloader) < best_loss:\n",
        "        best_loss = total_loss / len(train_source_dataloader)\n",
        "        print('save model')\n",
        "        torch.save(model.state_dict(), model_save_path)\n",
        "        torch.save(optimizer.state_dict(),optim_save_path)\n",
        "        torch.save(scheduler.state_dict(), scheduler_save_path)\n",
        "\n",
        "\n",
        "    print('Epoch : %d, Avg Loss : %.4f'%(i, total_loss / (len(train_source_dataloader) +len(train_target_dataloader))))\n",
        "\n",
        "\n"
      ],
      "metadata": {
        "colab": {
          "base_uri": "https://localhost:8080/",
          "height": 443,
          "referenced_widgets": [
            "fb42da92538e4325b9722f581ebb24c3",
            "32757c37666b4a7ca024d5c66a8d57a5",
            "f024749891bd41f7add435867d199897",
            "bec5d6ff9e3e484a9fe5f86f4797858a",
            "cb9d2d45c6144490adc77bb53b47a3a7",
            "33d54c7864d64ca1b373907ebc4c1fe5",
            "4ca1971e3bf44997a41d6ee5dd9b3c4f",
            "37611af0761049e5b45e02d57c35647c",
            "3d1b3771066b4a44b6fa9b93f7af037e",
            "65c89cc60b8240298bdf247ec7020d5c",
            "b725a6e0e2524272a0e996207ce8de99"
          ]
        },
        "id": "J5b_u2HaBqki",
        "outputId": "07dedd49-ecca-4810-ff92-bd9097de9403"
      },
      "execution_count": null,
      "outputs": [
        {
          "output_type": "stream",
          "name": "stdout",
          "text": [
            "epoch : 1\n"
          ]
        },
        {
          "output_type": "display_data",
          "data": {
            "text/plain": [
              "  0%|          | 0/333 [00:00<?, ?it/s]"
            ],
            "application/vnd.jupyter.widget-view+json": {
              "version_major": 2,
              "version_minor": 0,
              "model_id": "fb42da92538e4325b9722f581ebb24c3"
            }
          },
          "metadata": {}
        },
        {
          "output_type": "error",
          "ename": "ValueError",
          "evalue": "ignored",
          "traceback": [
            "\u001b[0;31m---------------------------------------------------------------------------\u001b[0m",
            "\u001b[0;31mValueError\u001b[0m                                Traceback (most recent call last)",
            "\u001b[0;32m<ipython-input-25-a8be5a4003f1>\u001b[0m in \u001b[0;36m<cell line: 25>\u001b[0;34m()\u001b[0m\n\u001b[1;32m     44\u001b[0m         \u001b[0mtarget_result\u001b[0m \u001b[0;34m=\u001b[0m \u001b[0mmodel\u001b[0m\u001b[0;34m(\u001b[0m\u001b[0mtarget_images\u001b[0m\u001b[0;34m)\u001b[0m\u001b[0;34m\u001b[0m\u001b[0;34m\u001b[0m\u001b[0m\n\u001b[1;32m     45\u001b[0m         \u001b[0;31m# 순전파 결과, class label, domain label(0 = mnist, 1 = svhn), alpha 순서\u001b[0m\u001b[0;34m\u001b[0m\u001b[0;34m\u001b[0m\u001b[0m\n\u001b[0;32m---> 46\u001b[0;31m         \u001b[0mf_loss\u001b[0m\u001b[0;34m,\u001b[0m \u001b[0mjacard_loss\u001b[0m\u001b[0;34m,\u001b[0m \u001b[0mCE_loss\u001b[0m\u001b[0;34m,\u001b[0m \u001b[0mdomain_loss\u001b[0m \u001b[0;34m=\u001b[0m \u001b[0mloss_fn\u001b[0m\u001b[0;34m(\u001b[0m\u001b[0msource_result\u001b[0m\u001b[0;34m,\u001b[0m \u001b[0msource_mask\u001b[0m\u001b[0;34m,\u001b[0m \u001b[0;36m0\u001b[0m\u001b[0;34m)\u001b[0m\u001b[0;34m\u001b[0m\u001b[0;34m\u001b[0m\u001b[0m\n\u001b[0m\u001b[1;32m     47\u001b[0m         \u001b[0mtarget_loss\u001b[0m \u001b[0;34m=\u001b[0m \u001b[0mloss_fn_tgt\u001b[0m\u001b[0;34m(\u001b[0m\u001b[0mtarget_result\u001b[0m\u001b[0;34m,\u001b[0m \u001b[0;36m1\u001b[0m\u001b[0;34m)\u001b[0m\u001b[0;34m\u001b[0m\u001b[0;34m\u001b[0m\u001b[0m\n\u001b[1;32m     48\u001b[0m \u001b[0;34m\u001b[0m\u001b[0m\n",
            "\u001b[0;32m/usr/local/lib/python3.10/dist-packages/torch/nn/modules/module.py\u001b[0m in \u001b[0;36m_call_impl\u001b[0;34m(self, *args, **kwargs)\u001b[0m\n\u001b[1;32m   1499\u001b[0m                 \u001b[0;32mor\u001b[0m \u001b[0m_global_backward_pre_hooks\u001b[0m \u001b[0;32mor\u001b[0m \u001b[0m_global_backward_hooks\u001b[0m\u001b[0;34m\u001b[0m\u001b[0;34m\u001b[0m\u001b[0m\n\u001b[1;32m   1500\u001b[0m                 or _global_forward_hooks or _global_forward_pre_hooks):\n\u001b[0;32m-> 1501\u001b[0;31m             \u001b[0;32mreturn\u001b[0m \u001b[0mforward_call\u001b[0m\u001b[0;34m(\u001b[0m\u001b[0;34m*\u001b[0m\u001b[0margs\u001b[0m\u001b[0;34m,\u001b[0m \u001b[0;34m**\u001b[0m\u001b[0mkwargs\u001b[0m\u001b[0;34m)\u001b[0m\u001b[0;34m\u001b[0m\u001b[0;34m\u001b[0m\u001b[0m\n\u001b[0m\u001b[1;32m   1502\u001b[0m         \u001b[0;31m# Do not call functions when jit is used\u001b[0m\u001b[0;34m\u001b[0m\u001b[0;34m\u001b[0m\u001b[0m\n\u001b[1;32m   1503\u001b[0m         \u001b[0mfull_backward_hooks\u001b[0m\u001b[0;34m,\u001b[0m \u001b[0mnon_full_backward_hooks\u001b[0m \u001b[0;34m=\u001b[0m \u001b[0;34m[\u001b[0m\u001b[0;34m]\u001b[0m\u001b[0;34m,\u001b[0m \u001b[0;34m[\u001b[0m\u001b[0;34m]\u001b[0m\u001b[0;34m\u001b[0m\u001b[0;34m\u001b[0m\u001b[0m\n",
            "\u001b[0;32m<ipython-input-22-3712d2c4b050>\u001b[0m in \u001b[0;36mforward\u001b[0;34m(self, result, label, domain_num, alpha)\u001b[0m\n\u001b[1;32m     13\u001b[0m     \u001b[0;31m# domain_num : 0(mnist) or 1(svhn)\u001b[0m\u001b[0;34m\u001b[0m\u001b[0;34m\u001b[0m\u001b[0m\n\u001b[1;32m     14\u001b[0m     \u001b[0;32mdef\u001b[0m \u001b[0mforward\u001b[0m\u001b[0;34m(\u001b[0m\u001b[0mself\u001b[0m\u001b[0;34m,\u001b[0m \u001b[0mresult\u001b[0m\u001b[0;34m,\u001b[0m \u001b[0mlabel\u001b[0m\u001b[0;34m,\u001b[0m \u001b[0mdomain_num\u001b[0m\u001b[0;34m,\u001b[0m \u001b[0malpha\u001b[0m \u001b[0;34m=\u001b[0m \u001b[0;36m1\u001b[0m\u001b[0;34m)\u001b[0m\u001b[0;34m:\u001b[0m\u001b[0;34m\u001b[0m\u001b[0;34m\u001b[0m\u001b[0m\n\u001b[0;32m---> 15\u001b[0;31m         \u001b[0mdomain_logits\u001b[0m\u001b[0;34m,\u001b[0m \u001b[0mlabel_logits\u001b[0m \u001b[0;34m=\u001b[0m \u001b[0mresult\u001b[0m \u001b[0;31m# DANN_CNN의 결과\u001b[0m\u001b[0;34m\u001b[0m\u001b[0;34m\u001b[0m\u001b[0m\n\u001b[0m\u001b[1;32m     16\u001b[0m \u001b[0;34m\u001b[0m\u001b[0m\n\u001b[1;32m     17\u001b[0m         \u001b[0mbatch_size\u001b[0m \u001b[0;34m=\u001b[0m \u001b[0mdomain_logits\u001b[0m\u001b[0;34m.\u001b[0m\u001b[0mshape\u001b[0m\u001b[0;34m[\u001b[0m\u001b[0;36m0\u001b[0m\u001b[0;34m]\u001b[0m\u001b[0;34m\u001b[0m\u001b[0;34m\u001b[0m\u001b[0m\n",
            "\u001b[0;31mValueError\u001b[0m: too many values to unpack (expected 2)"
          ]
        }
      ]
    },
    {
      "cell_type": "markdown",
      "source": [
        "#Inference"
      ],
      "metadata": {
        "id": "rNVxvJXMA08n"
      }
    },
    {
      "cell_type": "code",
      "source": [
        "test_dataset = CustomDataset(csv_file='/content/drive/MyDrive/dacon/san/test.csv', transform=transform, infer=True)\n",
        "test_dataloader = DataLoader(test_dataset, batch_size=16, shuffle=False, num_workers=4)"
      ],
      "metadata": {
        "id": "niq2yXcVAylI"
      },
      "execution_count": null,
      "outputs": []
    },
    {
      "cell_type": "code",
      "source": [
        "with torch.no_grad():\n",
        "    my_UNet = UNet3Plus()\n",
        "\n",
        "    model = nn.DataParallel(DANN_Unet(UNet())).to(device)\n",
        "    model.load_state_dict(torch.load('/content/drive/MyDrive/dacon/san/save/best_Unet3P_Dann_model.pth'))\n",
        "\n",
        "    model.eval()\n",
        "    result = []\n",
        "    for images in tqdm(test_dataloader):\n",
        "        images = images.float().to(device)\n",
        "        _, outputs = model(images)\n",
        "        outputs = torch.softmax(outputs, dim=1).cpu()\n",
        "        outputs = torch.argmax(outputs, dim=1).numpy()\n",
        "        # batch에 존재하는 각 이미지에 대해서 반복\n",
        "        for pred in outputs:\n",
        "            pred = pred.astype(np.uint8)\n",
        "            pred = Image.fromarray(pred) # 이미지로 변환\n",
        "            pred = pred.resize((960, 540), Image.NEAREST) # 960 x 540 사이즈로 변환\n",
        "            pred = np.array(pred) # 다시 수치로 변환\n",
        "            # class 0 ~ 11에 해당하는 경우에 마스크 형성 / 12(배경)는 제외하고 진행\n",
        "            for class_id in range(12):\n",
        "                class_mask = (pred == class_id).astype(np.uint8)\n",
        "                if np.sum(class_mask) > 0: # 마스크가 존재하는 경우 encode\n",
        "                    mask_rle = rle_encode(class_mask)\n",
        "                    result.append(mask_rle)\n",
        "                else: # 마스크가 존재하지 않는 경우 -1\n",
        "                    result.append(-1)"
      ],
      "metadata": {
        "id": "NJ7Ay_V6AAJs",
        "colab": {
          "base_uri": "https://localhost:8080/",
          "height": 49,
          "referenced_widgets": [
            "72a9c70de3574f4d8e80601bd71a8c25",
            "d975a2ea9dc44958946a041fe81c19f8",
            "cb5de15c77e84e40982d381532982ee7",
            "2c87dd84a7d540779570e25325e426ad",
            "62dec39c847b4f0b8a10434cd1fe9f67",
            "0f1a746ad7c44c6387e2e9fb349f04d1",
            "3035cffc053448fd9c34824c0bbb7804",
            "7dad9e2bc6cb4aa3b5c527dcf86a377d",
            "e8c8a794a64549799ca67d40e6d542c0",
            "c50d844f46c24b268c4f180f02503b20",
            "31ead1a5254848db8dbcd37cc69dc578"
          ]
        },
        "outputId": "c706b815-b311-4a59-dab0-7e4fb128f225"
      },
      "execution_count": null,
      "outputs": [
        {
          "output_type": "display_data",
          "data": {
            "text/plain": [
              "  0%|          | 0/119 [00:00<?, ?it/s]"
            ],
            "application/vnd.jupyter.widget-view+json": {
              "version_major": 2,
              "version_minor": 0,
              "model_id": "72a9c70de3574f4d8e80601bd71a8c25"
            }
          },
          "metadata": {}
        }
      ]
    },
    {
      "cell_type": "code",
      "source": [
        "submit = pd.read_csv('/content/drive/MyDrive/dacon/san/sample_submission.csv')\n",
        "submit['mask_rle'] = result\n",
        "submit"
      ],
      "metadata": {
        "id": "deOvrCIBA62g",
        "colab": {
          "base_uri": "https://localhost:8080/",
          "height": 423
        },
        "outputId": "8840c14a-61cf-4b63-ef7e-d02459afc49c"
      },
      "execution_count": null,
      "outputs": [
        {
          "output_type": "execute_result",
          "data": {
            "text/plain": [
              "                       id                                           mask_rle\n",
              "0       TEST_0000_class_0  213592 13 214552 13 215431 26 215487 51 216391...\n",
              "1       TEST_0000_class_1                                                 -1\n",
              "2       TEST_0000_class_2  1 99 597 463 1557 471 2517 471 3477 471 4437 4...\n",
              "3       TEST_0000_class_3  215324 8 216284 8 217244 8 221988 4 222044 4 2...\n",
              "4       TEST_0000_class_4  90837 4 91797 4 92757 4 93717 4 94677 4 95637 ...\n",
              "...                   ...                                                ...\n",
              "22771   TEST_1897_class_7  66237 4 67197 4 68157 4 69117 4 70072 9 71032 ...\n",
              "22772   TEST_1897_class_8  91 86 284 351 678 129 1051 86 1244 351 1638 12...\n",
              "22773   TEST_1897_class_9  211171 4 212131 4 213091 4 214051 9 215011 9 2...\n",
              "22774  TEST_1897_class_10                         215967 4 216927 4 217887 4\n",
              "22775  TEST_1897_class_11  157462 5 158422 5 159382 5 160342 5 161302 5 1...\n",
              "\n",
              "[22776 rows x 2 columns]"
            ],
            "text/html": [
              "\n",
              "  <div id=\"df-6305b91e-4cb4-476a-838f-dbaab020adea\" class=\"colab-df-container\">\n",
              "    <div>\n",
              "<style scoped>\n",
              "    .dataframe tbody tr th:only-of-type {\n",
              "        vertical-align: middle;\n",
              "    }\n",
              "\n",
              "    .dataframe tbody tr th {\n",
              "        vertical-align: top;\n",
              "    }\n",
              "\n",
              "    .dataframe thead th {\n",
              "        text-align: right;\n",
              "    }\n",
              "</style>\n",
              "<table border=\"1\" class=\"dataframe\">\n",
              "  <thead>\n",
              "    <tr style=\"text-align: right;\">\n",
              "      <th></th>\n",
              "      <th>id</th>\n",
              "      <th>mask_rle</th>\n",
              "    </tr>\n",
              "  </thead>\n",
              "  <tbody>\n",
              "    <tr>\n",
              "      <th>0</th>\n",
              "      <td>TEST_0000_class_0</td>\n",
              "      <td>213592 13 214552 13 215431 26 215487 51 216391...</td>\n",
              "    </tr>\n",
              "    <tr>\n",
              "      <th>1</th>\n",
              "      <td>TEST_0000_class_1</td>\n",
              "      <td>-1</td>\n",
              "    </tr>\n",
              "    <tr>\n",
              "      <th>2</th>\n",
              "      <td>TEST_0000_class_2</td>\n",
              "      <td>1 99 597 463 1557 471 2517 471 3477 471 4437 4...</td>\n",
              "    </tr>\n",
              "    <tr>\n",
              "      <th>3</th>\n",
              "      <td>TEST_0000_class_3</td>\n",
              "      <td>215324 8 216284 8 217244 8 221988 4 222044 4 2...</td>\n",
              "    </tr>\n",
              "    <tr>\n",
              "      <th>4</th>\n",
              "      <td>TEST_0000_class_4</td>\n",
              "      <td>90837 4 91797 4 92757 4 93717 4 94677 4 95637 ...</td>\n",
              "    </tr>\n",
              "    <tr>\n",
              "      <th>...</th>\n",
              "      <td>...</td>\n",
              "      <td>...</td>\n",
              "    </tr>\n",
              "    <tr>\n",
              "      <th>22771</th>\n",
              "      <td>TEST_1897_class_7</td>\n",
              "      <td>66237 4 67197 4 68157 4 69117 4 70072 9 71032 ...</td>\n",
              "    </tr>\n",
              "    <tr>\n",
              "      <th>22772</th>\n",
              "      <td>TEST_1897_class_8</td>\n",
              "      <td>91 86 284 351 678 129 1051 86 1244 351 1638 12...</td>\n",
              "    </tr>\n",
              "    <tr>\n",
              "      <th>22773</th>\n",
              "      <td>TEST_1897_class_9</td>\n",
              "      <td>211171 4 212131 4 213091 4 214051 9 215011 9 2...</td>\n",
              "    </tr>\n",
              "    <tr>\n",
              "      <th>22774</th>\n",
              "      <td>TEST_1897_class_10</td>\n",
              "      <td>215967 4 216927 4 217887 4</td>\n",
              "    </tr>\n",
              "    <tr>\n",
              "      <th>22775</th>\n",
              "      <td>TEST_1897_class_11</td>\n",
              "      <td>157462 5 158422 5 159382 5 160342 5 161302 5 1...</td>\n",
              "    </tr>\n",
              "  </tbody>\n",
              "</table>\n",
              "<p>22776 rows × 2 columns</p>\n",
              "</div>\n",
              "    <div class=\"colab-df-buttons\">\n",
              "\n",
              "  <div class=\"colab-df-container\">\n",
              "    <button class=\"colab-df-convert\" onclick=\"convertToInteractive('df-6305b91e-4cb4-476a-838f-dbaab020adea')\"\n",
              "            title=\"Convert this dataframe to an interactive table.\"\n",
              "            style=\"display:none;\">\n",
              "\n",
              "  <svg xmlns=\"http://www.w3.org/2000/svg\" height=\"24px\" viewBox=\"0 -960 960 960\">\n",
              "    <path d=\"M120-120v-720h720v720H120Zm60-500h600v-160H180v160Zm220 220h160v-160H400v160Zm0 220h160v-160H400v160ZM180-400h160v-160H180v160Zm440 0h160v-160H620v160ZM180-180h160v-160H180v160Zm440 0h160v-160H620v160Z\"/>\n",
              "  </svg>\n",
              "    </button>\n",
              "\n",
              "  <style>\n",
              "    .colab-df-container {\n",
              "      display:flex;\n",
              "      gap: 12px;\n",
              "    }\n",
              "\n",
              "    .colab-df-convert {\n",
              "      background-color: #E8F0FE;\n",
              "      border: none;\n",
              "      border-radius: 50%;\n",
              "      cursor: pointer;\n",
              "      display: none;\n",
              "      fill: #1967D2;\n",
              "      height: 32px;\n",
              "      padding: 0 0 0 0;\n",
              "      width: 32px;\n",
              "    }\n",
              "\n",
              "    .colab-df-convert:hover {\n",
              "      background-color: #E2EBFA;\n",
              "      box-shadow: 0px 1px 2px rgba(60, 64, 67, 0.3), 0px 1px 3px 1px rgba(60, 64, 67, 0.15);\n",
              "      fill: #174EA6;\n",
              "    }\n",
              "\n",
              "    .colab-df-buttons div {\n",
              "      margin-bottom: 4px;\n",
              "    }\n",
              "\n",
              "    [theme=dark] .colab-df-convert {\n",
              "      background-color: #3B4455;\n",
              "      fill: #D2E3FC;\n",
              "    }\n",
              "\n",
              "    [theme=dark] .colab-df-convert:hover {\n",
              "      background-color: #434B5C;\n",
              "      box-shadow: 0px 1px 3px 1px rgba(0, 0, 0, 0.15);\n",
              "      filter: drop-shadow(0px 1px 2px rgba(0, 0, 0, 0.3));\n",
              "      fill: #FFFFFF;\n",
              "    }\n",
              "  </style>\n",
              "\n",
              "    <script>\n",
              "      const buttonEl =\n",
              "        document.querySelector('#df-6305b91e-4cb4-476a-838f-dbaab020adea button.colab-df-convert');\n",
              "      buttonEl.style.display =\n",
              "        google.colab.kernel.accessAllowed ? 'block' : 'none';\n",
              "\n",
              "      async function convertToInteractive(key) {\n",
              "        const element = document.querySelector('#df-6305b91e-4cb4-476a-838f-dbaab020adea');\n",
              "        const dataTable =\n",
              "          await google.colab.kernel.invokeFunction('convertToInteractive',\n",
              "                                                    [key], {});\n",
              "        if (!dataTable) return;\n",
              "\n",
              "        const docLinkHtml = 'Like what you see? Visit the ' +\n",
              "          '<a target=\"_blank\" href=https://colab.research.google.com/notebooks/data_table.ipynb>data table notebook</a>'\n",
              "          + ' to learn more about interactive tables.';\n",
              "        element.innerHTML = '';\n",
              "        dataTable['output_type'] = 'display_data';\n",
              "        await google.colab.output.renderOutput(dataTable, element);\n",
              "        const docLink = document.createElement('div');\n",
              "        docLink.innerHTML = docLinkHtml;\n",
              "        element.appendChild(docLink);\n",
              "      }\n",
              "    </script>\n",
              "  </div>\n",
              "\n",
              "\n",
              "<div id=\"df-43658e1d-87cb-4d5f-a9a3-60f1dec97e23\">\n",
              "  <button class=\"colab-df-quickchart\" onclick=\"quickchart('df-43658e1d-87cb-4d5f-a9a3-60f1dec97e23')\"\n",
              "            title=\"Suggest charts.\"\n",
              "            style=\"display:none;\">\n",
              "\n",
              "<svg xmlns=\"http://www.w3.org/2000/svg\" height=\"24px\"viewBox=\"0 0 24 24\"\n",
              "     width=\"24px\">\n",
              "    <g>\n",
              "        <path d=\"M19 3H5c-1.1 0-2 .9-2 2v14c0 1.1.9 2 2 2h14c1.1 0 2-.9 2-2V5c0-1.1-.9-2-2-2zM9 17H7v-7h2v7zm4 0h-2V7h2v10zm4 0h-2v-4h2v4z\"/>\n",
              "    </g>\n",
              "</svg>\n",
              "  </button>\n",
              "\n",
              "<style>\n",
              "  .colab-df-quickchart {\n",
              "    background-color: #E8F0FE;\n",
              "    border: none;\n",
              "    border-radius: 50%;\n",
              "    cursor: pointer;\n",
              "    display: none;\n",
              "    fill: #1967D2;\n",
              "    height: 32px;\n",
              "    padding: 0 0 0 0;\n",
              "    width: 32px;\n",
              "  }\n",
              "\n",
              "  .colab-df-quickchart:hover {\n",
              "    background-color: #E2EBFA;\n",
              "    box-shadow: 0px 1px 2px rgba(60, 64, 67, 0.3), 0px 1px 3px 1px rgba(60, 64, 67, 0.15);\n",
              "    fill: #174EA6;\n",
              "  }\n",
              "\n",
              "  [theme=dark] .colab-df-quickchart {\n",
              "    background-color: #3B4455;\n",
              "    fill: #D2E3FC;\n",
              "  }\n",
              "\n",
              "  [theme=dark] .colab-df-quickchart:hover {\n",
              "    background-color: #434B5C;\n",
              "    box-shadow: 0px 1px 3px 1px rgba(0, 0, 0, 0.15);\n",
              "    filter: drop-shadow(0px 1px 2px rgba(0, 0, 0, 0.3));\n",
              "    fill: #FFFFFF;\n",
              "  }\n",
              "</style>\n",
              "\n",
              "  <script>\n",
              "    async function quickchart(key) {\n",
              "      const charts = await google.colab.kernel.invokeFunction(\n",
              "          'suggestCharts', [key], {});\n",
              "    }\n",
              "    (() => {\n",
              "      let quickchartButtonEl =\n",
              "        document.querySelector('#df-43658e1d-87cb-4d5f-a9a3-60f1dec97e23 button');\n",
              "      quickchartButtonEl.style.display =\n",
              "        google.colab.kernel.accessAllowed ? 'block' : 'none';\n",
              "    })();\n",
              "  </script>\n",
              "</div>\n",
              "    </div>\n",
              "  </div>\n"
            ]
          },
          "metadata": {},
          "execution_count": 34
        }
      ]
    },
    {
      "cell_type": "code",
      "source": [
        "submit.to_csv('/content/drive/MyDrive/dacon/san/Dann_unet3p_submit.csv', index=False)"
      ],
      "metadata": {
        "id": "Bv3w3IlHB9Sn"
      },
      "execution_count": null,
      "outputs": []
    },
    {
      "cell_type": "code",
      "source": [],
      "metadata": {
        "id": "wcnWqlu0R2_C"
      },
      "execution_count": null,
      "outputs": []
    }
  ]
}